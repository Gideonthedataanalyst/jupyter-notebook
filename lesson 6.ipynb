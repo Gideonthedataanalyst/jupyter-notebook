{
 "cells": [
  {
   "cell_type": "markdown",
   "id": "65c39433-29ab-4f71-8421-d05178a4a25b",
   "metadata": {},
   "source": [
    "# Python Operators"
   ]
  },
  {
   "cell_type": "markdown",
   "id": "05423a23-50f1-4b41-8da8-74987394b81f",
   "metadata": {},
   "source": [
    "## Arithmetic operators"
   ]
  },
  {
   "cell_type": "code",
   "execution_count": 1,
   "id": "d845b739-0577-4d43-9502-14d2256c5af0",
   "metadata": {},
   "outputs": [
    {
     "data": {
      "text/plain": [
       "10"
      ]
     },
     "execution_count": 1,
     "metadata": {},
     "output_type": "execute_result"
    }
   ],
   "source": [
    "# Addition\n",
    "5+5"
   ]
  },
  {
   "cell_type": "code",
   "execution_count": 2,
   "id": "2563c843-c5be-4575-9e5d-b7c8dc05333a",
   "metadata": {},
   "outputs": [
    {
     "data": {
      "text/plain": [
       "2"
      ]
     },
     "execution_count": 2,
     "metadata": {},
     "output_type": "execute_result"
    }
   ],
   "source": [
    "# Subtraction.\n",
    "6-4"
   ]
  },
  {
   "cell_type": "code",
   "execution_count": 5,
   "id": "0af2b82b-d888-488d-b848-e6c18bd17df9",
   "metadata": {},
   "outputs": [
    {
     "data": {
      "text/plain": [
       "8.333333333333334"
      ]
     },
     "execution_count": 5,
     "metadata": {},
     "output_type": "execute_result"
    }
   ],
   "source": [
    "# Division\n",
    "25/3"
   ]
  },
  {
   "cell_type": "code",
   "execution_count": 6,
   "id": "11927094-42ad-460d-92ce-eb208f68827c",
   "metadata": {},
   "outputs": [
    {
     "data": {
      "text/plain": [
       "8"
      ]
     },
     "execution_count": 6,
     "metadata": {},
     "output_type": "execute_result"
    }
   ],
   "source": [
    "# Whole number Division\n",
    "25//3"
   ]
  },
  {
   "cell_type": "code",
   "execution_count": 7,
   "id": "fc24adfc-7b58-40cc-96a2-7f8afebe9f17",
   "metadata": {},
   "outputs": [
    {
     "data": {
      "text/plain": [
       "48"
      ]
     },
     "execution_count": 7,
     "metadata": {},
     "output_type": "execute_result"
    }
   ],
   "source": [
    "# Multiplication\n",
    "6*8"
   ]
  },
  {
   "cell_type": "code",
   "execution_count": 8,
   "id": "997a004b-97af-4f19-8296-8f9ca5f29806",
   "metadata": {},
   "outputs": [
    {
     "data": {
      "text/plain": [
       "262144"
      ]
     },
     "execution_count": 8,
     "metadata": {},
     "output_type": "execute_result"
    }
   ],
   "source": [
    "# Power\n",
    "8**6"
   ]
  },
  {
   "cell_type": "code",
   "execution_count": 9,
   "id": "2b8de73c-6129-441a-93fb-f603e91e82c9",
   "metadata": {},
   "outputs": [
    {
     "data": {
      "text/plain": [
       "1"
      ]
     },
     "execution_count": 9,
     "metadata": {},
     "output_type": "execute_result"
    }
   ],
   "source": [
    "# Remainder or Modulus\n",
    "25%3\n"
   ]
  },
  {
   "cell_type": "code",
   "execution_count": null,
   "id": "f1e4c7ae-a632-4325-ae36-5a8b2619fb61",
   "metadata": {},
   "outputs": [],
   "source": []
  },
  {
   "cell_type": "code",
   "execution_count": null,
   "id": "43054b22-e2c8-42f4-9b67-0d2c9b5bcb3f",
   "metadata": {},
   "outputs": [],
   "source": []
  },
  {
   "cell_type": "markdown",
   "id": "834b1323-4393-41cb-83f8-07b6da6cf53b",
   "metadata": {},
   "source": [
    "## Assingment operators"
   ]
  },
  {
   "cell_type": "code",
   "execution_count": 10,
   "id": "186ece71-d23c-409e-af7c-84c63492e337",
   "metadata": {},
   "outputs": [],
   "source": [
    "a=8 # We are assigning 8 to a variable a \n"
   ]
  },
  {
   "cell_type": "code",
   "execution_count": 11,
   "id": "f10bc1bd-84ea-48a7-890a-c250c4da62de",
   "metadata": {},
   "outputs": [
    {
     "data": {
      "text/plain": [
       "8"
      ]
     },
     "execution_count": 11,
     "metadata": {},
     "output_type": "execute_result"
    }
   ],
   "source": [
    "a"
   ]
  },
  {
   "cell_type": "code",
   "execution_count": 12,
   "id": "b64c857e-7bc2-42b9-8158-c38624cf6626",
   "metadata": {},
   "outputs": [],
   "source": [
    "a=a+2"
   ]
  },
  {
   "cell_type": "code",
   "execution_count": 13,
   "id": "76390dad-9029-4c0f-b556-9a43fd1e1bec",
   "metadata": {},
   "outputs": [
    {
     "data": {
      "text/plain": [
       "10"
      ]
     },
     "execution_count": 13,
     "metadata": {},
     "output_type": "execute_result"
    }
   ],
   "source": [
    "a"
   ]
  },
  {
   "cell_type": "code",
   "execution_count": 14,
   "id": "c3865a4a-b948-411a-b084-f8a814ba3c43",
   "metadata": {},
   "outputs": [],
   "source": [
    "a+=2"
   ]
  },
  {
   "cell_type": "code",
   "execution_count": 15,
   "id": "8699e728-e9f2-40c7-8d7b-4702843a962a",
   "metadata": {},
   "outputs": [
    {
     "data": {
      "text/plain": [
       "12"
      ]
     },
     "execution_count": 15,
     "metadata": {},
     "output_type": "execute_result"
    }
   ],
   "source": [
    "a"
   ]
  },
  {
   "cell_type": "code",
   "execution_count": 16,
   "id": "f4e4e8d6-b083-4d67-a490-162c1cbc6eac",
   "metadata": {},
   "outputs": [],
   "source": [
    "b=13 #Assinging 13 to a variable b"
   ]
  },
  {
   "cell_type": "code",
   "execution_count": 17,
   "id": "4326ba4c-f232-4d5e-87c9-721a90260150",
   "metadata": {},
   "outputs": [
    {
     "data": {
      "text/plain": [
       "13"
      ]
     },
     "execution_count": 17,
     "metadata": {},
     "output_type": "execute_result"
    }
   ],
   "source": [
    "b"
   ]
  },
  {
   "cell_type": "code",
   "execution_count": 18,
   "id": "42b3ef6f-e5a5-409b-8230-dd5f17da8459",
   "metadata": {},
   "outputs": [],
   "source": [
    "# b=b-2\n",
    "b-=2"
   ]
  },
  {
   "cell_type": "code",
   "execution_count": 19,
   "id": "4ec617cc-aac8-4550-a8df-f5ac584a5bcb",
   "metadata": {},
   "outputs": [
    {
     "data": {
      "text/plain": [
       "11"
      ]
     },
     "execution_count": 19,
     "metadata": {},
     "output_type": "execute_result"
    }
   ],
   "source": [
    "b"
   ]
  },
  {
   "cell_type": "code",
   "execution_count": 20,
   "id": "6d9f3805-7c7c-4a59-9577-b86b00c7e5e5",
   "metadata": {},
   "outputs": [],
   "source": [
    "c=18"
   ]
  },
  {
   "cell_type": "code",
   "execution_count": 21,
   "id": "3379fbc9-5edb-46f2-832d-92b3a97035e0",
   "metadata": {},
   "outputs": [
    {
     "data": {
      "text/plain": [
       "18"
      ]
     },
     "execution_count": 21,
     "metadata": {},
     "output_type": "execute_result"
    }
   ],
   "source": [
    "c"
   ]
  },
  {
   "cell_type": "code",
   "execution_count": 22,
   "id": "3e19886f-e66e-4739-b8e8-a252e551144e",
   "metadata": {},
   "outputs": [],
   "source": [
    "# c=c/3\n",
    "c/=3"
   ]
  },
  {
   "cell_type": "code",
   "execution_count": 23,
   "id": "2d05a7bf-af26-4e93-bacb-1c595c1847e4",
   "metadata": {},
   "outputs": [
    {
     "data": {
      "text/plain": [
       "6.0"
      ]
     },
     "execution_count": 23,
     "metadata": {},
     "output_type": "execute_result"
    }
   ],
   "source": [
    "c"
   ]
  },
  {
   "cell_type": "code",
   "execution_count": 24,
   "id": "efaf35e6-6a5a-41a8-b802-bd122ec14939",
   "metadata": {},
   "outputs": [],
   "source": [
    "d=5"
   ]
  },
  {
   "cell_type": "code",
   "execution_count": 25,
   "id": "52ff4c9e-e264-405c-a687-124a5895699e",
   "metadata": {},
   "outputs": [
    {
     "data": {
      "text/plain": [
       "5"
      ]
     },
     "execution_count": 25,
     "metadata": {},
     "output_type": "execute_result"
    }
   ],
   "source": [
    "d"
   ]
  },
  {
   "cell_type": "code",
   "execution_count": 26,
   "id": "5b5251d6-97cc-4044-8852-3fe38fbdaae2",
   "metadata": {},
   "outputs": [],
   "source": [
    "# d=d*3\n",
    "d*=3"
   ]
  },
  {
   "cell_type": "code",
   "execution_count": 27,
   "id": "f60496b9-a660-479a-9bac-ab31fa7223a9",
   "metadata": {},
   "outputs": [
    {
     "data": {
      "text/plain": [
       "15"
      ]
     },
     "execution_count": 27,
     "metadata": {},
     "output_type": "execute_result"
    }
   ],
   "source": [
    "d"
   ]
  },
  {
   "cell_type": "code",
   "execution_count": 28,
   "id": "0317481f-edad-485d-95be-c4d4548d9e68",
   "metadata": {},
   "outputs": [],
   "source": [
    "e=8"
   ]
  },
  {
   "cell_type": "code",
   "execution_count": 29,
   "id": "d17b9bb3-34a3-40f0-a422-90c37a374219",
   "metadata": {},
   "outputs": [
    {
     "data": {
      "text/plain": [
       "8"
      ]
     },
     "execution_count": 29,
     "metadata": {},
     "output_type": "execute_result"
    }
   ],
   "source": [
    "e"
   ]
  },
  {
   "cell_type": "code",
   "execution_count": 30,
   "id": "2d828451-d98e-452f-bdc2-8fb46701bdd0",
   "metadata": {},
   "outputs": [],
   "source": [
    "# e=e%3\n",
    "e%=3"
   ]
  },
  {
   "cell_type": "code",
   "execution_count": 31,
   "id": "be291d81-17ee-4aa7-8283-b348a077d641",
   "metadata": {},
   "outputs": [
    {
     "data": {
      "text/plain": [
       "2"
      ]
     },
     "execution_count": 31,
     "metadata": {},
     "output_type": "execute_result"
    }
   ],
   "source": [
    "e"
   ]
  },
  {
   "cell_type": "code",
   "execution_count": 32,
   "id": "c9dbe50d-0cac-4761-92ad-902f10e1a162",
   "metadata": {},
   "outputs": [],
   "source": [
    "f=4"
   ]
  },
  {
   "cell_type": "code",
   "execution_count": 33,
   "id": "6120170e-9b22-482e-b4ff-1358c862710f",
   "metadata": {},
   "outputs": [
    {
     "data": {
      "text/plain": [
       "4"
      ]
     },
     "execution_count": 33,
     "metadata": {},
     "output_type": "execute_result"
    }
   ],
   "source": [
    "f"
   ]
  },
  {
   "cell_type": "code",
   "execution_count": 34,
   "id": "b72e5c91-feb7-4006-8182-5e9dfec05f6e",
   "metadata": {},
   "outputs": [],
   "source": [
    "# f=f**2\n",
    "f**=2"
   ]
  },
  {
   "cell_type": "code",
   "execution_count": 35,
   "id": "2d9753c2-3468-4510-888a-00746408b0b4",
   "metadata": {},
   "outputs": [
    {
     "data": {
      "text/plain": [
       "16"
      ]
     },
     "execution_count": 35,
     "metadata": {},
     "output_type": "execute_result"
    }
   ],
   "source": [
    "f"
   ]
  },
  {
   "cell_type": "code",
   "execution_count": null,
   "id": "0cd0e789-8b49-424e-a6b9-372a14861d3c",
   "metadata": {},
   "outputs": [],
   "source": []
  },
  {
   "cell_type": "code",
   "execution_count": null,
   "id": "c595a4a8-e8fd-4819-b3b6-0157aba65497",
   "metadata": {},
   "outputs": [],
   "source": []
  },
  {
   "cell_type": "markdown",
   "id": "e529a1c8-0ea4-4a21-9f69-12eb8f216ed0",
   "metadata": {},
   "source": [
    "## Comparison operators"
   ]
  },
  {
   "cell_type": "code",
   "execution_count": 36,
   "id": "14dd059d-9f56-4d96-9b75-dd05a5468db5",
   "metadata": {},
   "outputs": [
    {
     "data": {
      "text/plain": [
       "False"
      ]
     },
     "execution_count": 36,
     "metadata": {},
     "output_type": "execute_result"
    }
   ],
   "source": [
    "# Greater than \n",
    "2>3"
   ]
  },
  {
   "cell_type": "code",
   "execution_count": 37,
   "id": "1ab2f909-ae78-43a3-8ac1-68f2855bc3a5",
   "metadata": {},
   "outputs": [
    {
     "data": {
      "text/plain": [
       "True"
      ]
     },
     "execution_count": 37,
     "metadata": {},
     "output_type": "execute_result"
    }
   ],
   "source": [
    "# Less than\n",
    "2<3"
   ]
  },
  {
   "cell_type": "code",
   "execution_count": 38,
   "id": "4ae045ef-1244-4da2-b357-4346602b85e6",
   "metadata": {},
   "outputs": [
    {
     "data": {
      "text/plain": [
       "False"
      ]
     },
     "execution_count": 38,
     "metadata": {},
     "output_type": "execute_result"
    }
   ],
   "source": [
    "# Equal to\n",
    "2==3"
   ]
  },
  {
   "cell_type": "code",
   "execution_count": 40,
   "id": "9e58ef88-cbf1-42f3-919b-1047d73bc03a",
   "metadata": {},
   "outputs": [
    {
     "data": {
      "text/plain": [
       "True"
      ]
     },
     "execution_count": 40,
     "metadata": {},
     "output_type": "execute_result"
    }
   ],
   "source": [
    "# Not equal to\n",
    "2!=3"
   ]
  },
  {
   "cell_type": "code",
   "execution_count": null,
   "id": "7db73d74-b9a3-47a6-8cfc-711cb03cc36b",
   "metadata": {},
   "outputs": [],
   "source": []
  },
  {
   "cell_type": "code",
   "execution_count": null,
   "id": "2a46f229-5cb4-42fb-970f-68f68544c859",
   "metadata": {},
   "outputs": [],
   "source": []
  },
  {
   "cell_type": "markdown",
   "id": "a86d1e99-5db1-44b0-ad81-577b0f70f271",
   "metadata": {},
   "source": [
    "# Python Flow control"
   ]
  },
  {
   "cell_type": "markdown",
   "id": "3a861a08-5b58-4ea6-91ee-791f2c44d097",
   "metadata": {},
   "source": [
    "## Conditional Statements"
   ]
  },
  {
   "cell_type": "markdown",
   "id": "cfe29058-5a72-4231-b4e1-3c2c4cb844cf",
   "metadata": {},
   "source": [
    "## IF...ELSE...Statement"
   ]
  },
  {
   "cell_type": "code",
   "execution_count": 41,
   "id": "52c52c70-89f3-4282-a822-6c51f3f59e62",
   "metadata": {},
   "outputs": [
    {
     "name": "stdout",
     "output_type": "stream",
     "text": [
      "This number is negative\n"
     ]
    }
   ],
   "source": [
    "# Testing if a number is Negative \n",
    "g=-5\n",
    "if g<0:\n",
    "    print(\"This number is negative\")"
   ]
  },
  {
   "cell_type": "code",
   "execution_count": 42,
   "id": "d5b5f6d7-22b4-42f2-9158-9fa6b591db54",
   "metadata": {},
   "outputs": [],
   "source": [
    "# Testing if a number is Negative \n",
    "h=3\n",
    "if h<0:\n",
    "    print(\"This number is negative\")"
   ]
  },
  {
   "cell_type": "code",
   "execution_count": 43,
   "id": "ff06ac02-6f82-4569-a82d-29511b8ca34f",
   "metadata": {},
   "outputs": [
    {
     "name": "stdout",
     "output_type": "stream",
     "text": [
      "This number is positive\n"
     ]
    }
   ],
   "source": [
    "# Testing if a number is Negative \n",
    "i=5\n",
    "if i<0:\n",
    "    print(\"This number is negative\")\n",
    "else:\n",
    "    print(\"This number is positive\")"
   ]
  },
  {
   "cell_type": "code",
   "execution_count": 44,
   "id": "0b78dd6f-10fd-4f1d-a8db-e24980a5827b",
   "metadata": {},
   "outputs": [
    {
     "name": "stdout",
     "output_type": "stream",
     "text": [
      "This number is positive\n"
     ]
    }
   ],
   "source": [
    "# Testing if a number is Negative \n",
    "j=9\n",
    "if j>0:\n",
    "    print(\"This number is positive\")\n",
    "else:\n",
    "    print(\"This number is negative\")"
   ]
  },
  {
   "cell_type": "code",
   "execution_count": 51,
   "id": "d0c75da2-3dea-4e93-a8be-e4a611331b30",
   "metadata": {},
   "outputs": [
    {
     "name": "stdin",
     "output_type": "stream",
     "text": [
      "Enter the number you want to test 0\n"
     ]
    },
    {
     "name": "stdout",
     "output_type": "stream",
     "text": [
      "This number is positive\n"
     ]
    }
   ],
   "source": [
    "# Testing if a number is Negative \n",
    "k=int(input(\"Enter the number you want to test\"))\n",
    "if k<0:\n",
    "    print(\"This number is negative\")\n",
    "else:\n",
    "    print(\"This number is positive\")"
   ]
  },
  {
   "cell_type": "code",
   "execution_count": null,
   "id": "ce4df6d1-67bc-4823-bd32-b4867ec1d498",
   "metadata": {},
   "outputs": [],
   "source": []
  },
  {
   "cell_type": "code",
   "execution_count": null,
   "id": "556f847d-dac4-48d3-9d8b-65f03676fcef",
   "metadata": {},
   "outputs": [],
   "source": []
  },
  {
   "cell_type": "markdown",
   "id": "2b8ef37f-3063-4c4e-af65-fbf3f72c49ba",
   "metadata": {},
   "source": [
    "## IF...ELIF...ELSE..."
   ]
  },
  {
   "cell_type": "code",
   "execution_count": 57,
   "id": "c7b6d57a-04de-40c9-b296-a9e1c7461bad",
   "metadata": {},
   "outputs": [
    {
     "name": "stdin",
     "output_type": "stream",
     "text": [
      "Enter the number you want to test -8\n"
     ]
    },
    {
     "name": "stdout",
     "output_type": "stream",
     "text": [
      "This number is negative\n"
     ]
    }
   ],
   "source": [
    "# Testing if a number is Negative \n",
    "k=int(input(\"Enter the number you want to test\"))\n",
    "if k<0:\n",
    "    print(\"This number is negative\")\n",
    "elif k==0:\n",
    "    print(\"This number is 0\")\n",
    "else:\n",
    "    print(\"This number is positive\")"
   ]
  },
  {
   "cell_type": "code",
   "execution_count": 59,
   "id": "141502e2-ab33-43ff-9cb0-89df07236671",
   "metadata": {},
   "outputs": [
    {
     "name": "stdin",
     "output_type": "stream",
     "text": [
      "Enter an integer or a number:  3\n"
     ]
    },
    {
     "name": "stdout",
     "output_type": "stream",
     "text": [
      "3 is Odd\n"
     ]
    }
   ],
   "source": [
    "# Testing if a number is even or odd\n",
    "def is_even_or_odd(number):  \n",
    "  \"\"\"Checks if a number is even or odd.  \n",
    "\n",
    "  Args:  \n",
    "    number: A number.  \n",
    "\n",
    "  Returns:  \n",
    "    \"Even\" if the number is even, \"Odd\" if the number is odd,   \n",
    "    \"Error: Input is not an integer\" if input is not an integer,  \n",
    "    \"Error: Input is not a number\" if input is not a number.  \n",
    "  \"\"\"  \n",
    "  if not isinstance(number,(int,float)):  \n",
    "    return \"Error: Input is not a number\"  \n",
    "  if not isinstance(number, int):  \n",
    "      number = int(number) # Try to convert to integer. Will raise error if not possible  \n",
    "      return \"Even\" if number % 2 == 0 else \"Odd\"  \n",
    "  try:  \n",
    "      return \"Even\" if number % 2 == 0 else \"Odd\"  \n",
    "  except TypeError:  \n",
    "      return \"Error: Input is not a number that can be converted to an integer.\"  \n",
    "\n",
    "\n",
    "# Get input from the user.  Using a while loop for better error handling.  \n",
    "while True:  \n",
    "    try:  \n",
    "        num_str = input(\"Enter an integer or a number: \")  \n",
    "        num = float(num_str) #Attempt to convert to float first - more flexible  \n",
    "        break  \n",
    "    except ValueError:  \n",
    "        print(\"Invalid input. Please enter a number.\")  \n",
    "\n",
    "\n",
    "# Check and print the result  \n",
    "result = is_even_or_odd(num)  \n",
    "print(f\"{num_str} is {result}\")"
   ]
  },
  {
   "cell_type": "code",
   "execution_count": 61,
   "id": "c03cacf9-8693-4c33-b7bb-4b3e787b4971",
   "metadata": {},
   "outputs": [
    {
     "name": "stdin",
     "output_type": "stream",
     "text": [
      "Enter a number:  3\n"
     ]
    },
    {
     "name": "stdout",
     "output_type": "stream",
     "text": [
      "3 is Odd\n"
     ]
    }
   ],
   "source": [
    "num = int(input(\"Enter a number: \"))\n",
    "if (num % 2) == 0:\n",
    "   print(\"{0} is Even\".format(num))\n",
    "else:\n",
    "   print(\"{0} is Odd\".format(num))"
   ]
  },
  {
   "cell_type": "code",
   "execution_count": 62,
   "id": "4affe339-1732-4cb5-a3e8-f6d5b9a77106",
   "metadata": {},
   "outputs": [
    {
     "name": "stdin",
     "output_type": "stream",
     "text": [
      "Enter the number you want to test:  2\n"
     ]
    },
    {
     "name": "stdout",
     "output_type": "stream",
     "text": [
      "This number is positive\n",
      "This number is even\n"
     ]
    }
   ],
   "source": [
    "# Testing if a number is Negative\n",
    "k = int(input(\"Enter the number you want to test: \"))\n",
    "\n",
    "if k < 0:\n",
    "    print(\"This number is negative\")\n",
    "elif k == 0:\n",
    "    print(\"This number is 0\")\n",
    "else:\n",
    "    print(\"This number is positive\")\n",
    "\n",
    "# Testing if a number is even or odd\n",
    "if k % 2 == 0:\n",
    "    print(\"This number is even\")\n",
    "else:\n",
    "    print(\"This number is odd\")"
   ]
  },
  {
   "cell_type": "code",
   "execution_count": 65,
   "id": "aacd020f-4056-49a3-85fd-c1daaa2c163f",
   "metadata": {},
   "outputs": [
    {
     "name": "stdin",
     "output_type": "stream",
     "text": [
      "Enter a number:  3\n"
     ]
    },
    {
     "name": "stdout",
     "output_type": "stream",
     "text": [
      "3 is odd.\n"
     ]
    }
   ],
   "source": [
    "# Get input from the user\n",
    "number = int(input(\"Enter a number: \"))\n",
    "\n",
    "# Check if the number is even or odd\n",
    "if number % 2 == 0:\n",
    "    print(f\"{number} is even.\")\n",
    "else:\n",
    "    print(f\"{number} is odd.\")"
   ]
  },
  {
   "cell_type": "code",
   "execution_count": 68,
   "id": "ba414b70-42f5-4bb5-a4f3-207057cd3f00",
   "metadata": {},
   "outputs": [
    {
     "name": "stdin",
     "output_type": "stream",
     "text": [
      "Enter the number you want to test 3\n"
     ]
    },
    {
     "name": "stdout",
     "output_type": "stream",
     "text": [
      "This number is odd\n"
     ]
    }
   ],
   "source": [
    "l=int(input(\"Enter the number you want to test\"))\n",
    "if l%2==0:\n",
    "    print(\"This number is even\")\n",
    "else:\n",
    "    print(\"This number is odd\")"
   ]
  },
  {
   "cell_type": "code",
   "execution_count": 70,
   "id": "d643fa8a-067e-45d2-bb09-e840c7f6e48b",
   "metadata": {},
   "outputs": [
    {
     "name": "stdin",
     "output_type": "stream",
     "text": [
      "Enter the number you want to test 6\n"
     ]
    },
    {
     "name": "stdout",
     "output_type": "stream",
     "text": [
      "This number is even\n"
     ]
    }
   ],
   "source": [
    "l=int(input(\"Enter the number you want to test\"))\n",
    "if l%2!=0:\n",
    "    print(\"This number is odd\")\n",
    "else:\n",
    "    print(\"This number is even\")"
   ]
  },
  {
   "cell_type": "code",
   "execution_count": null,
   "id": "275015c9-4dd3-4d9c-8ce0-a0914564b23a",
   "metadata": {},
   "outputs": [],
   "source": []
  },
  {
   "cell_type": "code",
   "execution_count": null,
   "id": "76c82360-029c-4fa0-bbb1-e13d0a17e8da",
   "metadata": {},
   "outputs": [],
   "source": []
  },
  {
   "cell_type": "markdown",
   "id": "97d266ad-c0d2-441b-ad9c-4b5107039f6e",
   "metadata": {},
   "source": [
    "## For loop"
   ]
  },
  {
   "cell_type": "code",
   "execution_count": 71,
   "id": "97607789-34cc-4b41-8f12-599ed0c2240a",
   "metadata": {},
   "outputs": [],
   "source": [
    "str1=\"Dennis\""
   ]
  },
  {
   "cell_type": "code",
   "execution_count": 72,
   "id": "44b3963b-3c33-45b4-8123-d74df5d7a440",
   "metadata": {},
   "outputs": [
    {
     "data": {
      "text/plain": [
       "'Dennis'"
      ]
     },
     "execution_count": 72,
     "metadata": {},
     "output_type": "execute_result"
    }
   ],
   "source": [
    "str1"
   ]
  },
  {
   "cell_type": "code",
   "execution_count": 73,
   "id": "17e91940-a96f-4637-b452-267e70e03683",
   "metadata": {},
   "outputs": [
    {
     "name": "stdout",
     "output_type": "stream",
     "text": [
      "D\n",
      "e\n",
      "n\n",
      "n\n",
      "i\n",
      "s\n"
     ]
    }
   ],
   "source": [
    "for letter in str1:\n",
    "    print(letter)"
   ]
  },
  {
   "cell_type": "code",
   "execution_count": 74,
   "id": "057b9e4a-446e-413b-ac7e-fd745e754609",
   "metadata": {},
   "outputs": [
    {
     "name": "stdout",
     "output_type": "stream",
     "text": [
      "D\n",
      "e\n",
      "n\n",
      "n\n",
      "i\n",
      "s\n"
     ]
    }
   ],
   "source": [
    "for i in str1:\n",
    "    print(i)"
   ]
  },
  {
   "cell_type": "markdown",
   "id": "8f9a0a18-a35d-405a-9ba1-b74e8f8fde08",
   "metadata": {},
   "source": [
    "### Range() function"
   ]
  },
  {
   "cell_type": "code",
   "execution_count": 75,
   "id": "f70f7f9a-6c19-416b-9b9c-207995e79d8e",
   "metadata": {},
   "outputs": [
    {
     "name": "stdout",
     "output_type": "stream",
     "text": [
      "0\n",
      "1\n",
      "2\n",
      "3\n",
      "4\n",
      "5\n",
      "6\n",
      "7\n",
      "8\n",
      "9\n"
     ]
    }
   ],
   "source": [
    "# range(n) gives 0 upto n-1 \n",
    "for j in range(10): \n",
    "    print(j)"
   ]
  },
  {
   "cell_type": "code",
   "execution_count": 76,
   "id": "50fadcfb-884b-494f-b436-b1b175096897",
   "metadata": {},
   "outputs": [
    {
     "name": "stdout",
     "output_type": "stream",
     "text": [
      "10\n",
      "12\n",
      "14\n",
      "16\n",
      "18\n",
      "20\n"
     ]
    }
   ],
   "source": [
    "# range(start,end,increment by)\n",
    "for j in range(10,21,2): \n",
    "    print(j)"
   ]
  },
  {
   "cell_type": "code",
   "execution_count": 77,
   "id": "489e4575-de3b-4438-b3ce-8dccb31456be",
   "metadata": {},
   "outputs": [],
   "source": [
    "Student_list=[\"Dennis\",\"Joy\",\"Bildad\",\"Magdaline\"]"
   ]
  },
  {
   "cell_type": "code",
   "execution_count": 78,
   "id": "57180ac4-44fc-4944-a389-dcf7466c7503",
   "metadata": {},
   "outputs": [
    {
     "data": {
      "text/plain": [
       "['Dennis', 'Joy', 'Bildad', 'Magdaline']"
      ]
     },
     "execution_count": 78,
     "metadata": {},
     "output_type": "execute_result"
    }
   ],
   "source": [
    "Student_list"
   ]
  },
  {
   "cell_type": "code",
   "execution_count": 79,
   "id": "abef852a-3cee-46c0-8f6f-ffeb9f5a7d44",
   "metadata": {},
   "outputs": [
    {
     "name": "stdout",
     "output_type": "stream",
     "text": [
      "Dennis\n",
      "Joy\n",
      "Bildad\n",
      "Magdaline\n"
     ]
    }
   ],
   "source": [
    "for name in Student_list:\n",
    "    print(name)"
   ]
  },
  {
   "cell_type": "code",
   "execution_count": 80,
   "id": "f1ae1203-b537-4005-9d56-c2c0f6b1146f",
   "metadata": {},
   "outputs": [
    {
     "name": "stdout",
     "output_type": "stream",
     "text": [
      "I like Dennis\n",
      "I like Joy\n",
      "I like Bildad\n",
      "I like Magdaline\n"
     ]
    }
   ],
   "source": [
    "# for loop through a list using indexing\n",
    "for i in range(len(Student_list)):\n",
    "    print(\"I like\",Student_list[i])"
   ]
  },
  {
   "cell_type": "code",
   "execution_count": null,
   "id": "ee70e257-3b65-498f-93d6-257842c7bd02",
   "metadata": {},
   "outputs": [],
   "source": []
  }
 ],
 "metadata": {
  "kernelspec": {
   "display_name": "Python 3 (ipykernel)",
   "language": "python",
   "name": "python3"
  },
  "language_info": {
   "codemirror_mode": {
    "name": "ipython",
    "version": 3
   },
   "file_extension": ".py",
   "mimetype": "text/x-python",
   "name": "python",
   "nbconvert_exporter": "python",
   "pygments_lexer": "ipython3",
   "version": "3.11.7"
  }
 },
 "nbformat": 4,
 "nbformat_minor": 5
}
