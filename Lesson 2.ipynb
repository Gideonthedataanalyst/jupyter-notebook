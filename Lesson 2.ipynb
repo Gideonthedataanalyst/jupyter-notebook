{
 "cells": [
  {
   "cell_type": "markdown",
   "id": "6ae4a835-4ba8-4559-b751-cfcb9371cfe9",
   "metadata": {},
   "source": [
    "# INTRODUCTION TO PYTHON"
   ]
  },
  {
   "cell_type": "markdown",
   "id": "bce514b6-046a-4376-a843-ca03b4737c1e",
   "metadata": {},
   "source": [
    "## python Variables and data types"
   ]
  },
  {
   "cell_type": "markdown",
   "id": "62aee61b-1d6e-453e-a8e7-d1545199426a",
   "metadata": {},
   "source": [
    "### python variables"
   ]
  },
  {
   "cell_type": "code",
   "execution_count": 1,
   "id": "d1584a6f-fd7a-4c09-bec4-008e61418111",
   "metadata": {},
   "outputs": [
    {
     "name": "stdout",
     "output_type": "stream",
     "text": [
      "2\n"
     ]
    }
   ],
   "source": [
    "print(2)"
   ]
  },
  {
   "cell_type": "code",
   "execution_count": 13,
   "id": "c977a126-01b4-433f-88d6-6e806cc81a32",
   "metadata": {},
   "outputs": [
    {
     "name": "stdout",
     "output_type": "stream",
     "text": [
      "sonek\n"
     ]
    }
   ],
   "source": [
    "print(\"sonek\")"
   ]
  },
  {
   "cell_type": "code",
   "execution_count": 23,
   "id": "0df27465-d21b-4174-b1e2-388ea85ea8b8",
   "metadata": {},
   "outputs": [
    {
     "name": "stdout",
     "output_type": "stream",
     "text": [
      "happy to learn python\n"
     ]
    }
   ],
   "source": [
    "print(\"happy to learn python\") #string values have to be sorrounded by speech marks or double quotation"
   ]
  },
  {
   "cell_type": "code",
   "execution_count": 17,
   "id": "c36227ea-3652-4fc9-a28b-df1eb3b6e1e2",
   "metadata": {},
   "outputs": [
    {
     "name": "stdout",
     "output_type": "stream",
     "text": [
      "hello world\n"
     ]
    }
   ],
   "source": [
    "print(\"hello world\") "
   ]
  },
  {
   "cell_type": "code",
   "execution_count": 3,
   "id": "2afb000c-7323-4d3f-9ffc-6d20d2f4333a",
   "metadata": {},
   "outputs": [],
   "source": [
    "x=2 #we store the value 2 in a variable x i.e x is now defined"
   ]
  },
  {
   "cell_type": "code",
   "execution_count": 21,
   "id": "694d777b-ed4a-4258-9ad3-d6df7bca364b",
   "metadata": {},
   "outputs": [
    {
     "name": "stdout",
     "output_type": "stream",
     "text": [
      "2\n"
     ]
    }
   ],
   "source": [
    "print(x)"
   ]
  },
  {
   "cell_type": "code",
   "execution_count": 5,
   "id": "a83f3c1e-beb0-4481-bd5f-97c027d3eabb",
   "metadata": {},
   "outputs": [
    {
     "name": "stdout",
     "output_type": "stream",
     "text": [
      "3\n"
     ]
    }
   ],
   "source": [
    "X=3\n",
    "print(X)"
   ]
  },
  {
   "cell_type": "code",
   "execution_count": 31,
   "id": "0422b7a8-0b84-425a-b839-dfffdd84f100",
   "metadata": {},
   "outputs": [
    {
     "data": {
      "text/plain": [
       "5"
      ]
     },
     "execution_count": 31,
     "metadata": {},
     "output_type": "execute_result"
    }
   ],
   "source": [
    "x+X"
   ]
  },
  {
   "cell_type": "markdown",
   "id": "ad3396cb-49f3-41bb-b88b-3a6e6b9454e8",
   "metadata": {},
   "source": [
    "## variable names cannot start with a number \n",
    "## variable names cannot have a hyphen, comma e.t.c\n",
    "## variable names can have an underscore"
   ]
  },
  {
   "cell_type": "code",
   "execution_count": 42,
   "id": "f5b2d153-7cdf-4970-af11-6aca875f25fd",
   "metadata": {},
   "outputs": [],
   "source": [
    "myname1= \"Bildad\" #we have stored the string value bildad under a variable called myname1"
   ]
  },
  {
   "cell_type": "code",
   "execution_count": 44,
   "id": "900f034b-a1e5-448d-a540-382509ad6ac1",
   "metadata": {},
   "outputs": [
    {
     "data": {
      "text/plain": [
       "'Bildad'"
      ]
     },
     "execution_count": 44,
     "metadata": {},
     "output_type": "execute_result"
    }
   ],
   "source": [
    "myname1"
   ]
  },
  {
   "cell_type": "code",
   "execution_count": 46,
   "id": "33ea4529-15e0-4f9e-9e48-7aecba614304",
   "metadata": {},
   "outputs": [
    {
     "name": "stdout",
     "output_type": "stream",
     "text": [
      "Bildad\n"
     ]
    }
   ],
   "source": [
    "print(myname1)"
   ]
  },
  {
   "cell_type": "code",
   "execution_count": null,
   "id": "6c5e76c2-bcf3-4ca3-b554-6df0ef217851",
   "metadata": {},
   "outputs": [],
   "source": []
  },
  {
   "cell_type": "code",
   "execution_count": null,
   "id": "0b1db880-f6fb-4656-8e15-0716b89015d7",
   "metadata": {},
   "outputs": [],
   "source": []
  },
  {
   "cell_type": "markdown",
   "id": "4bdc478d-2d24-4a50-bf1b-dc62503ddf0d",
   "metadata": {},
   "source": [
    "# String Datatype"
   ]
  },
  {
   "cell_type": "code",
   "execution_count": 49,
   "id": "030722b4-9d27-43d0-b4a8-0a5b2956952a",
   "metadata": {},
   "outputs": [],
   "source": [
    "str1= \"Jack\"\n",
    "str2= \"Son\""
   ]
  },
  {
   "cell_type": "markdown",
   "id": "d385a018-03af-4e40-aa13-d35b32954de0",
   "metadata": {},
   "source": [
    "#### string operations"
   ]
  },
  {
   "cell_type": "code",
   "execution_count": 54,
   "id": "a54df83d-f6d0-41d5-8cf8-2ceef9d6ec20",
   "metadata": {},
   "outputs": [
    {
     "data": {
      "text/plain": [
       "'JackSon'"
      ]
     },
     "execution_count": 54,
     "metadata": {},
     "output_type": "execute_result"
    }
   ],
   "source": [
    "str1+str2 #the addition sign in strings does concatenation"
   ]
  },
  {
   "cell_type": "code",
   "execution_count": 56,
   "id": "27bf230b-1bb9-4a79-88d4-92e82bc01ed1",
   "metadata": {},
   "outputs": [
    {
     "data": {
      "text/plain": [
       "'JackSon'"
      ]
     },
     "execution_count": 56,
     "metadata": {},
     "output_type": "execute_result"
    }
   ],
   "source": [
    "\"Jack\"+\"Son\""
   ]
  },
  {
   "cell_type": "code",
   "execution_count": 68,
   "id": "a23bcd9e-d811-47f5-ae6c-15296aa69fd4",
   "metadata": {},
   "outputs": [
    {
     "data": {
      "text/plain": [
       "'22'"
      ]
     },
     "execution_count": 68,
     "metadata": {},
     "output_type": "execute_result"
    }
   ],
   "source": [
    "\"2\"+\"2\" #concatenation"
   ]
  },
  {
   "cell_type": "code",
   "execution_count": 66,
   "id": "f7b8d18f-c59a-4c25-999e-73928e7b3ebd",
   "metadata": {},
   "outputs": [
    {
     "data": {
      "text/plain": [
       "'MigunaMiguna'"
      ]
     },
     "execution_count": 66,
     "metadata": {},
     "output_type": "execute_result"
    }
   ],
   "source": [
    "\"Miguna\"*2 #multiplication sign in strings does repetition"
   ]
  },
  {
   "cell_type": "code",
   "execution_count": null,
   "id": "3c8eee8f-79f9-431d-9f5f-003dfeff393e",
   "metadata": {},
   "outputs": [],
   "source": []
  },
  {
   "cell_type": "code",
   "execution_count": null,
   "id": "2f19314e-9757-4a4c-9c9d-46202f2a80f6",
   "metadata": {},
   "outputs": [],
   "source": []
  },
  {
   "cell_type": "code",
   "execution_count": 62,
   "id": "025c3515-86fb-42f3-915f-2cf6b5c73116",
   "metadata": {},
   "outputs": [
    {
     "data": {
      "text/plain": [
       "'Miguna Miguna '"
      ]
     },
     "execution_count": 62,
     "metadata": {},
     "output_type": "execute_result"
    }
   ],
   "source": [
    "\"Miguna \"*2"
   ]
  },
  {
   "cell_type": "code",
   "execution_count": 64,
   "id": "79692a2b-a975-492b-bb17-2580e43d059b",
   "metadata": {},
   "outputs": [
    {
     "data": {
      "text/plain": [
       "' Miguna Miguna'"
      ]
     },
     "execution_count": 64,
     "metadata": {},
     "output_type": "execute_result"
    }
   ],
   "source": [
    "\" Miguna\"*2"
   ]
  },
  {
   "cell_type": "code",
   "execution_count": null,
   "id": "812274ca-c19b-48e7-aabc-394212591549",
   "metadata": {},
   "outputs": [],
   "source": []
  },
  {
   "cell_type": "markdown",
   "id": "9c3d8649-a9e0-41f7-a464-bf3b36585d1f",
   "metadata": {},
   "source": [
    "#### strings indexing and slicing"
   ]
  },
  {
   "cell_type": "code",
   "execution_count": 71,
   "id": "fdc4d776-c5be-4cbd-8c30-8b8957a18a5b",
   "metadata": {},
   "outputs": [],
   "source": [
    "myname2=\"clayderman\""
   ]
  },
  {
   "cell_type": "code",
   "execution_count": 73,
   "id": "e21b41e3-3c2c-4a09-8bd8-941356eb268b",
   "metadata": {},
   "outputs": [
    {
     "data": {
      "text/plain": [
       "'clayderman'"
      ]
     },
     "execution_count": 73,
     "metadata": {},
     "output_type": "execute_result"
    }
   ],
   "source": [
    "myname2"
   ]
  },
  {
   "cell_type": "code",
   "execution_count": 75,
   "id": "67dc6a2c-7cba-4f24-9809-6304f98a0198",
   "metadata": {},
   "outputs": [
    {
     "data": {
      "text/plain": [
       "'c'"
      ]
     },
     "execution_count": 75,
     "metadata": {},
     "output_type": "execute_result"
    }
   ],
   "source": [
    "myname2[0]"
   ]
  },
  {
   "cell_type": "code",
   "execution_count": 77,
   "id": "dd946426-4333-4a76-a5e8-ec3018a22284",
   "metadata": {},
   "outputs": [
    {
     "data": {
      "text/plain": [
       "'l'"
      ]
     },
     "execution_count": 77,
     "metadata": {},
     "output_type": "execute_result"
    }
   ],
   "source": [
    "myname2[1]"
   ]
  },
  {
   "cell_type": "code",
   "execution_count": 79,
   "id": "0e5b7446-ecf5-4b72-88c5-5f7a036535fa",
   "metadata": {},
   "outputs": [
    {
     "data": {
      "text/plain": [
       "'a'"
      ]
     },
     "execution_count": 79,
     "metadata": {},
     "output_type": "execute_result"
    }
   ],
   "source": [
    "myname2[2]"
   ]
  },
  {
   "cell_type": "code",
   "execution_count": 81,
   "id": "6d4f72fa-d82f-46e6-8e78-4f7ddc211e89",
   "metadata": {},
   "outputs": [
    {
     "data": {
      "text/plain": [
       "'y'"
      ]
     },
     "execution_count": 81,
     "metadata": {},
     "output_type": "execute_result"
    }
   ],
   "source": [
    "myname2[3]"
   ]
  },
  {
   "cell_type": "code",
   "execution_count": 83,
   "id": "358c6eba-07e2-472a-8b3f-53d48ced4de2",
   "metadata": {},
   "outputs": [
    {
     "data": {
      "text/plain": [
       "'d'"
      ]
     },
     "execution_count": 83,
     "metadata": {},
     "output_type": "execute_result"
    }
   ],
   "source": [
    "myname2[4]"
   ]
  },
  {
   "cell_type": "code",
   "execution_count": 85,
   "id": "4e133265-4666-4534-be4e-2a4b411cf6a7",
   "metadata": {},
   "outputs": [
    {
     "data": {
      "text/plain": [
       "'e'"
      ]
     },
     "execution_count": 85,
     "metadata": {},
     "output_type": "execute_result"
    }
   ],
   "source": [
    "myname2[5]"
   ]
  },
  {
   "cell_type": "code",
   "execution_count": 87,
   "id": "a8356e41-e8a5-4585-b84b-e02bbb79c660",
   "metadata": {},
   "outputs": [
    {
     "data": {
      "text/plain": [
       "'r'"
      ]
     },
     "execution_count": 87,
     "metadata": {},
     "output_type": "execute_result"
    }
   ],
   "source": [
    "myname2[6]"
   ]
  },
  {
   "cell_type": "code",
   "execution_count": 89,
   "id": "4dcc867c-4cb3-4a38-8e45-efb2f6b11d84",
   "metadata": {},
   "outputs": [
    {
     "data": {
      "text/plain": [
       "'m'"
      ]
     },
     "execution_count": 89,
     "metadata": {},
     "output_type": "execute_result"
    }
   ],
   "source": [
    "myname2[7]"
   ]
  },
  {
   "cell_type": "code",
   "execution_count": 91,
   "id": "beb8f344-1e57-4d9f-8e6e-2a65d2ddd492",
   "metadata": {},
   "outputs": [
    {
     "data": {
      "text/plain": [
       "'a'"
      ]
     },
     "execution_count": 91,
     "metadata": {},
     "output_type": "execute_result"
    }
   ],
   "source": [
    "myname2[8]"
   ]
  },
  {
   "cell_type": "code",
   "execution_count": 93,
   "id": "0323d30a-ed4a-42ce-ae34-f12f016b531d",
   "metadata": {},
   "outputs": [
    {
     "data": {
      "text/plain": [
       "'n'"
      ]
     },
     "execution_count": 93,
     "metadata": {},
     "output_type": "execute_result"
    }
   ],
   "source": [
    "myname2[9]"
   ]
  },
  {
   "cell_type": "code",
   "execution_count": 105,
   "id": "b126669d-72d0-4fb7-8dfa-3be6687a6bfa",
   "metadata": {},
   "outputs": [
    {
     "data": {
      "text/plain": [
       "'e'"
      ]
     },
     "execution_count": 105,
     "metadata": {},
     "output_type": "execute_result"
    }
   ],
   "source": [
    "myname2[-5]"
   ]
  },
  {
   "cell_type": "code",
   "execution_count": 107,
   "id": "0c22ac02-5fd9-44f2-b089-8441ad3b478d",
   "metadata": {},
   "outputs": [
    {
     "data": {
      "text/plain": [
       "'d'"
      ]
     },
     "execution_count": 107,
     "metadata": {},
     "output_type": "execute_result"
    }
   ],
   "source": [
    "myname2[-6]"
   ]
  },
  {
   "cell_type": "code",
   "execution_count": 109,
   "id": "e2c9c50b-b209-4158-8519-4b32b00eff86",
   "metadata": {},
   "outputs": [
    {
     "data": {
      "text/plain": [
       "'y'"
      ]
     },
     "execution_count": 109,
     "metadata": {},
     "output_type": "execute_result"
    }
   ],
   "source": [
    "myname2[-7]"
   ]
  },
  {
   "cell_type": "code",
   "execution_count": 111,
   "id": "e26c5e6c-9cec-4763-8c09-8b56a92d80ff",
   "metadata": {},
   "outputs": [
    {
     "data": {
      "text/plain": [
       "'a'"
      ]
     },
     "execution_count": 111,
     "metadata": {},
     "output_type": "execute_result"
    }
   ],
   "source": [
    "myname2[-8]"
   ]
  },
  {
   "cell_type": "code",
   "execution_count": 113,
   "id": "394331d8-2203-4ea9-911b-2fe9bec121b5",
   "metadata": {},
   "outputs": [
    {
     "data": {
      "text/plain": [
       "'l'"
      ]
     },
     "execution_count": 113,
     "metadata": {},
     "output_type": "execute_result"
    }
   ],
   "source": [
    "myname2[-9]"
   ]
  },
  {
   "cell_type": "code",
   "execution_count": 115,
   "id": "6ab86736-10c7-4576-a39f-d254ab3c56d3",
   "metadata": {},
   "outputs": [
    {
     "data": {
      "text/plain": [
       "'c'"
      ]
     },
     "execution_count": 115,
     "metadata": {},
     "output_type": "execute_result"
    }
   ],
   "source": [
    "myname2[-10]"
   ]
  },
  {
   "cell_type": "code",
   "execution_count": null,
   "id": "ee94b07a-d19f-4863-ab97-8cab0df3bfd6",
   "metadata": {},
   "outputs": [],
   "source": []
  }
 ],
 "metadata": {
  "kernelspec": {
   "display_name": "Python 3 (ipykernel)",
   "language": "python",
   "name": "python3"
  },
  "language_info": {
   "codemirror_mode": {
    "name": "ipython",
    "version": 3
   },
   "file_extension": ".py",
   "mimetype": "text/x-python",
   "name": "python",
   "nbconvert_exporter": "python",
   "pygments_lexer": "ipython3",
   "version": "3.12.4"
  }
 },
 "nbformat": 4,
 "nbformat_minor": 5
}
