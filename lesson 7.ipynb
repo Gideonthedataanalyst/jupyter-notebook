{
 "cells": [
  {
   "cell_type": "markdown",
   "id": "b546dfe9-498e-4f35-80ad-5a7238c1893c",
   "metadata": {},
   "source": [
    "# FOR Loop\n"
   ]
  },
  {
   "cell_type": "markdown",
   "id": "315ee5ed-e1d3-45ad-9fe1-5a2dc924832b",
   "metadata": {},
   "source": [
    "## Looping through a Tuple"
   ]
  },
  {
   "cell_type": "code",
   "execution_count": 1,
   "id": "4f1512a6-df7d-4c64-9b26-e649df668bf5",
   "metadata": {},
   "outputs": [],
   "source": [
    "mytupple=( \"Joy\",\"Python\",\"Sonek\")"
   ]
  },
  {
   "cell_type": "code",
   "execution_count": 2,
   "id": "ce68b281-3fba-4952-8918-dc1f69d86ef0",
   "metadata": {},
   "outputs": [
    {
     "data": {
      "text/plain": [
       "('Joy', 'Python', 'Sonek')"
      ]
     },
     "execution_count": 2,
     "metadata": {},
     "output_type": "execute_result"
    }
   ],
   "source": [
    "mytupple"
   ]
  },
  {
   "cell_type": "code",
   "execution_count": 3,
   "id": "9a983c82-425e-4826-91f3-1a8568621b62",
   "metadata": {},
   "outputs": [
    {
     "name": "stdout",
     "output_type": "stream",
     "text": [
      "Joy\n",
      "Python\n",
      "Sonek\n"
     ]
    }
   ],
   "source": [
    "for i in mytupple:\n",
    "    print(i)"
   ]
  },
  {
   "cell_type": "code",
   "execution_count": null,
   "id": "fdcdd6fa-f507-4963-88c6-1a12e0fc4326",
   "metadata": {},
   "outputs": [],
   "source": []
  },
  {
   "cell_type": "markdown",
   "id": "1a5e8593-1e85-4084-b960-bd2dce97ddcf",
   "metadata": {},
   "source": [
    "## Looping through dictionaries"
   ]
  },
  {
   "cell_type": "code",
   "execution_count": 4,
   "id": "98510d8b-6a51-4261-a07b-20834dbeac94",
   "metadata": {},
   "outputs": [],
   "source": [
    "mydict={\"name\" :\"Joy\",\"age\":20,\"profession\":\"student\"}"
   ]
  },
  {
   "cell_type": "code",
   "execution_count": 5,
   "id": "20f44b9c-28e5-4709-8bc1-d8b63ac501f6",
   "metadata": {},
   "outputs": [
    {
     "data": {
      "text/plain": [
       "{'name': 'Joy', 'age': 20, 'profession': 'student'}"
      ]
     },
     "execution_count": 5,
     "metadata": {},
     "output_type": "execute_result"
    }
   ],
   "source": [
    "mydict"
   ]
  },
  {
   "cell_type": "code",
   "execution_count": 6,
   "id": "822f0d69-6e77-4e0a-ba6d-baf678239921",
   "metadata": {},
   "outputs": [
    {
     "name": "stdout",
     "output_type": "stream",
     "text": [
      "== Keys Only ==\n",
      "name\n",
      "age\n",
      "profession\n",
      "== Values Only ==\n",
      "Joy\n",
      "20\n",
      "student\n",
      "== Keys and Values  ==\n",
      "('name', 'Joy')\n",
      "('age', 20)\n",
      "('profession', 'student')\n",
      "== The end ==\n"
     ]
    }
   ],
   "source": [
    "print(\"== Keys Only ==\")\n",
    "for x in mydict:\n",
    "    print(x)\n",
    "print(\"== Values Only ==\")\n",
    "for x in mydict.values():\n",
    "    print(x)\n",
    "print(\"== Keys and Values  ==\")\n",
    "for x in mydict.items():\n",
    "    print(x)\n",
    "print(\"== The end ==\")"
   ]
  },
  {
   "cell_type": "code",
   "execution_count": null,
   "id": "0beaab37-e269-438c-bd0f-4caa611bda23",
   "metadata": {},
   "outputs": [],
   "source": []
  },
  {
   "cell_type": "code",
   "execution_count": 7,
   "id": "7c4a3010-273d-4346-a0b4-d75d9d47303e",
   "metadata": {},
   "outputs": [
    {
     "name": "stdout",
     "output_type": "stream",
     "text": [
      "    *\n",
      "   ***\n",
      "  *****\n",
      " *******\n",
      "*********\n",
      "    *\n",
      "    *\n"
     ]
    }
   ],
   "source": [
    "# Number of levels in the Christmas tree\n",
    "levels = 5\n",
    "\n",
    "# Loop through each level\n",
    "for i in range(levels):\n",
    "    # Print spaces for alignment\n",
    "    for j in range(levels - i - 1):\n",
    "        print(\" \", end=\"\")\n",
    "    # Print stars for the tree\n",
    "    for k in range(2 * i + 1):\n",
    "        print(\"*\", end=\"\")\n",
    "    # Move to the next line\n",
    "    print()\n",
    "\n",
    "# Print the trunk of the tree\n",
    "for i in range(2):\n",
    "    for j in range(levels - 1):\n",
    "        print(\" \", end=\"\")\n",
    "    print(\"*\")"
   ]
  },
  {
   "cell_type": "code",
   "execution_count": 9,
   "id": "3240a715-9426-4122-be6e-2c3b4c87117a",
   "metadata": {},
   "outputs": [
    {
     "name": "stdout",
     "output_type": "stream",
     "text": [
      "         *\n",
      "        *|*\n",
      "       *|||*\n",
      "      *|||||*\n",
      "     *|||||||*\n",
      "    *|||||||||*\n",
      "   *|||||||||||*\n",
      "  *|||||||||||||*\n",
      " *|||||||||||||||*\n",
      "*|||||||||||||||||*\n"
     ]
    }
   ],
   "source": [
    "n = 10\n",
    "for i in range(0, n):\n",
    "    for j in range(1, n - i):\n",
    "        print(\" \", end=\"\")\n",
    "    print(\"*\", end=\"\")\n",
    "    for k in range(0, i):\n",
    "        print(\"|\", end=\"\")\n",
    "    for j in range(1, i):\n",
    "        print(\"|\", end=\"\")\n",
    "    if i > 0:\n",
    "        print(\"*\", end=\"\")\n",
    "    print()"
   ]
  },
  {
   "cell_type": "code",
   "execution_count": null,
   "id": "6bdb78ac-1e10-4228-9f5c-8ce9b524a533",
   "metadata": {},
   "outputs": [],
   "source": []
  },
  {
   "cell_type": "code",
   "execution_count": 14,
   "id": "68afdfab-093a-4b13-b61d-75832c0dfbf4",
   "metadata": {},
   "outputs": [
    {
     "name": "stdout",
     "output_type": "stream",
     "text": [
      "O-----O\n",
      "   |\n",
      "O-----O\n",
      "   |\n",
      "O-----O\n",
      "   |\n",
      "O-----O\n",
      "   |\n",
      "O-----O\n",
      "   |\n"
     ]
    }
   ],
   "source": [
    "def draw_dumbbell():\n",
    "    # Define the number of segments in the dumbbell\n",
    "    segments = 5\n",
    "    \n",
    "    # Create the dumbbell shape using loops\n",
    "    for i in range(segments):\n",
    "        # Draw the left weight\n",
    "        print(\"O\", end=\"\")\n",
    "        \n",
    "        # Draw the bar\n",
    "        print(\"-\" * 5, end=\"\")\n",
    "        \n",
    "        # Draw the right weight\n",
    "        print(\"O\")\n",
    "    \n",
    "        # Draw the handles\n",
    "        print(\" \" * 3 + \"|\")\n",
    "    \n",
    "draw_dumbbell()"
   ]
  },
  {
   "cell_type": "code",
   "execution_count": 12,
   "id": "e7500467-8c54-4ddd-a5c7-8772ca44ed4b",
   "metadata": {},
   "outputs": [
    {
     "name": "stdout",
     "output_type": "stream",
     "text": [
      "      ______\n",
      "     /|_||_\\`.__\n",
      "    (   _    _ _\\\n",
      "    =`-(_)--(_)-' \n"
     ]
    }
   ],
   "source": [
    "#Karkar Nooi\n",
    "#8:50 PM\n",
    "# Car Art using for loop\n",
    "car_art = [\n",
    "    \"      ______\",\n",
    "    \"     /|_||_\\\\`.__\",\n",
    "    \"    (   _    _ _\\\\\",\n",
    "    \"    =`-(_)--(_)-' \"\n",
    "]\n",
    "\n",
    "# Display car art using for loop\n",
    "for line in car_art:\n",
    "    print(line)"
   ]
  },
  {
   "cell_type": "code",
   "execution_count": null,
   "id": "8c47016c-59b3-441f-ba07-43fe7493aa01",
   "metadata": {},
   "outputs": [],
   "source": []
  },
  {
   "cell_type": "code",
   "execution_count": null,
   "id": "77d51b35-2e7b-4178-aeca-97836d1a8890",
   "metadata": {},
   "outputs": [],
   "source": []
  },
  {
   "cell_type": "markdown",
   "id": "122c2aec-5270-4f04-8715-8e2663b8de51",
   "metadata": {},
   "source": [
    "## For loop With an Else"
   ]
  },
  {
   "cell_type": "code",
   "execution_count": 15,
   "id": "8c34b73f-692f-44d1-90cc-3ade3c08605d",
   "metadata": {},
   "outputs": [],
   "source": [
    "studentlist=[ \"Karkar\",\"Dennis\",\"Stephen\",\"Faith\",\"Joy\"]"
   ]
  },
  {
   "cell_type": "code",
   "execution_count": 16,
   "id": "1a9478fc-68c1-4b34-a0eb-8a9eb008e1b7",
   "metadata": {},
   "outputs": [
    {
     "data": {
      "text/plain": [
       "['Karkar', 'Dennis', 'Stephen', 'Faith', 'Joy']"
      ]
     },
     "execution_count": 16,
     "metadata": {},
     "output_type": "execute_result"
    }
   ],
   "source": [
    "studentlist"
   ]
  },
  {
   "cell_type": "code",
   "execution_count": 17,
   "id": "937e950c-bd3f-4ddd-94f9-196c60cb0ce7",
   "metadata": {},
   "outputs": [
    {
     "name": "stdout",
     "output_type": "stream",
     "text": [
      "Karkar\n",
      "Dennis\n",
      "Stephen\n",
      "Faith\n",
      "Joy\n",
      "no name left\n"
     ]
    }
   ],
   "source": [
    "for name in studentlist:\n",
    "    print(name)\n",
    "else:\n",
    "    print(\"no name left\")"
   ]
  },
  {
   "cell_type": "code",
   "execution_count": null,
   "id": "4bd1ed82-9732-49ad-88ce-d0087fa2e178",
   "metadata": {},
   "outputs": [],
   "source": []
  },
  {
   "cell_type": "code",
   "execution_count": null,
   "id": "73f00ae7-b843-424d-859b-4b5f78cb2365",
   "metadata": {},
   "outputs": [],
   "source": []
  },
  {
   "cell_type": "code",
   "execution_count": null,
   "id": "c0f62901-1d57-437b-83dd-d348a81522c5",
   "metadata": {},
   "outputs": [],
   "source": []
  },
  {
   "cell_type": "markdown",
   "id": "217fee04-7b30-4017-b8d7-fb5295c1e500",
   "metadata": {},
   "source": [
    "# While Loop"
   ]
  },
  {
   "cell_type": "code",
   "execution_count": 18,
   "id": "e4f05a50-361f-4cce-8240-c9416f4fbad7",
   "metadata": {},
   "outputs": [
    {
     "name": "stdout",
     "output_type": "stream",
     "text": [
      "0\n",
      "1\n",
      "2\n",
      "3\n",
      "4\n",
      "5\n",
      "6\n",
      "7\n",
      "8\n",
      "9\n",
      "10\n"
     ]
    }
   ],
   "source": [
    "# A program that prints zero to ten \n",
    "n=10\n",
    "i=0\n",
    "while i<=10:\n",
    "    print(i)\n",
    "    i+=1     #i=i+1\n",
    "    \n"
   ]
  },
  {
   "cell_type": "code",
   "execution_count": null,
   "id": "e68be55c-62c7-4e2c-a7f8-e4bee5db7bbd",
   "metadata": {},
   "outputs": [],
   "source": []
  },
  {
   "cell_type": "code",
   "execution_count": null,
   "id": "e05379b7-87d2-4e5a-afe5-0bf0b4d496d2",
   "metadata": {},
   "outputs": [],
   "source": []
  },
  {
   "cell_type": "code",
   "execution_count": null,
   "id": "718d30f6-2e28-497b-89e4-ffdc5bf6b25b",
   "metadata": {},
   "outputs": [],
   "source": []
  },
  {
   "cell_type": "markdown",
   "id": "e6fb8a47-0929-4227-af29-0c1e1d324e54",
   "metadata": {},
   "source": [
    "# Python Functions"
   ]
  },
  {
   "cell_type": "code",
   "execution_count": 19,
   "id": "f25184a0-7bf0-4a10-b545-4e448b0e9f35",
   "metadata": {},
   "outputs": [],
   "source": [
    "def kuongeza(num1,num2):\n",
    "    return num1 + num2"
   ]
  },
  {
   "cell_type": "code",
   "execution_count": 20,
   "id": "e614a400-3d72-4b65-92d7-de9a5d334702",
   "metadata": {},
   "outputs": [
    {
     "data": {
      "text/plain": [
       "12"
      ]
     },
     "execution_count": 20,
     "metadata": {},
     "output_type": "execute_result"
    }
   ],
   "source": [
    "kuongeza(5,7)"
   ]
  },
  {
   "cell_type": "code",
   "execution_count": 21,
   "id": "04e77c49-3a8f-4054-a18a-2c2778ce2677",
   "metadata": {},
   "outputs": [
    {
     "data": {
      "text/plain": [
       "1570"
      ]
     },
     "execution_count": 21,
     "metadata": {},
     "output_type": "execute_result"
    }
   ],
   "source": [
    "kuongeza(675,895)"
   ]
  },
  {
   "cell_type": "code",
   "execution_count": 22,
   "id": "a98d542f-29f2-48b7-aa1d-e04cea2513db",
   "metadata": {},
   "outputs": [],
   "source": [
    "def kutoa(num1,num2):\n",
    "    return num1-num2"
   ]
  },
  {
   "cell_type": "code",
   "execution_count": 23,
   "id": "398dc89d-1ecd-4f19-93eb-0f334e99a681",
   "metadata": {},
   "outputs": [
    {
     "data": {
      "text/plain": [
       "4"
      ]
     },
     "execution_count": 23,
     "metadata": {},
     "output_type": "execute_result"
    }
   ],
   "source": [
    "kutoa(5,1)"
   ]
  },
  {
   "cell_type": "code",
   "execution_count": 27,
   "id": "5aa28502-2916-420f-acc3-8f15ea8c2386",
   "metadata": {},
   "outputs": [],
   "source": [
    "def kuongezatano(num1,num2,num3,num4,num5):\n",
    "    return num1 + num2 +num3+ num4+num5"
   ]
  },
  {
   "cell_type": "code",
   "execution_count": 28,
   "id": "fa78ab09-d88d-4a86-af86-b690b732faa4",
   "metadata": {},
   "outputs": [
    {
     "data": {
      "text/plain": [
       "26"
      ]
     },
     "execution_count": 28,
     "metadata": {},
     "output_type": "execute_result"
    }
   ],
   "source": [
    "kuongezatano(5,7,6,3,5)"
   ]
  },
  {
   "cell_type": "code",
   "execution_count": 29,
   "id": "a75720a1-fc1a-4462-9887-20a030fa7e05",
   "metadata": {},
   "outputs": [],
   "source": [
    "def kuongezamingi(*numbers):\n",
    "    addition=0\n",
    "    for number in numbers:\n",
    "        addition=addition + number\n",
    "    return addition"
   ]
  },
  {
   "cell_type": "code",
   "execution_count": 30,
   "id": "ce1220f9-ab82-4573-91b9-268caa34560e",
   "metadata": {},
   "outputs": [
    {
     "data": {
      "text/plain": [
       "1272.68"
      ]
     },
     "execution_count": 30,
     "metadata": {},
     "output_type": "execute_result"
    }
   ],
   "source": [
    "kuongezamingi(50,70.68,2,45,67,300,46,79,90,48,93,25,58,45,38,29,76,87,24)"
   ]
  },
  {
   "cell_type": "code",
   "execution_count": null,
   "id": "a90d05fc-f60b-48fb-8dca-87b2b75a0066",
   "metadata": {},
   "outputs": [],
   "source": [
    "# Testing whether a number is prime or not.\n",
    "\n",
    "starting_num=int(input(\"Enter a starting number:\"))\n",
    "stopping_num=int(input(\"Enter a stopping number:\"))\n",
    "\n",
    "for number in range(starting_num,stopping_num+1):\n",
    "    if number>1:\n",
    "        for i in range(2,number):\n",
    "            if(number%i)==0:\n",
    "                break\n",
    "        else:\n",
    "                print(number,\":is prime\")"
   ]
  },
  {
   "cell_type": "code",
   "execution_count": null,
   "id": "a81b5f73-dade-4116-8597-f25406239629",
   "metadata": {},
   "outputs": [],
   "source": []
  },
  {
   "cell_type": "code",
   "execution_count": null,
   "id": "b83225db-acdf-4404-8830-cd2e535fb963",
   "metadata": {},
   "outputs": [],
   "source": []
  },
  {
   "cell_type": "code",
   "execution_count": null,
   "id": "c2598668-b636-4422-92ff-29c2a92f660b",
   "metadata": {},
   "outputs": [],
   "source": []
  },
  {
   "cell_type": "code",
   "execution_count": null,
   "id": "c5398cdd-b218-4f35-97a2-2a187ddcfaed",
   "metadata": {},
   "outputs": [],
   "source": []
  },
  {
   "cell_type": "code",
   "execution_count": null,
   "id": "495bb5dc-0f96-4cd3-866f-38fda9ffbdae",
   "metadata": {},
   "outputs": [],
   "source": []
  }
 ],
 "metadata": {
  "kernelspec": {
   "display_name": "Python 3 (ipykernel)",
   "language": "python",
   "name": "python3"
  },
  "language_info": {
   "codemirror_mode": {
    "name": "ipython",
    "version": 3
   },
   "file_extension": ".py",
   "mimetype": "text/x-python",
   "name": "python",
   "nbconvert_exporter": "python",
   "pygments_lexer": "ipython3",
   "version": "3.12.4"
  }
 },
 "nbformat": 4,
 "nbformat_minor": 5
}
