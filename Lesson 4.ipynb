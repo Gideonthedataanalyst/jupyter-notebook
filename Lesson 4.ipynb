{
 "cells": [
  {
   "cell_type": "markdown",
   "id": "3637ec16-9cba-45e6-95bd-a19c6f45b443",
   "metadata": {},
   "source": [
    "# TUPLES"
   ]
  },
  {
   "cell_type": "code",
   "execution_count": 4,
   "id": "7b99aae8-2ef8-44d3-b2aa-342358578d37",
   "metadata": {},
   "outputs": [],
   "source": [
    "mytup1=(\"hello world\",24,\"Carole Mugure\") #A Tuple is a sequence of immutable Python objects like floating number, string, etc. \n",
    "#immutable means tuples cannot be changed while a tuple is a sequeence of immutable objects, a list is a sequence of mutable python objects.\n",
    "#Tuples are sequences, just like Lists; Allows duplicate members.\n"
   ]
  },
  {
   "cell_type": "code",
   "execution_count": null,
   "id": "a86fd44d-7e0c-41cd-b078-200ad6096e08",
   "metadata": {},
   "outputs": [],
   "source": []
  },
  {
   "cell_type": "code",
   "execution_count": null,
   "id": "bc309717-3a22-4ebc-a7e3-51182ec7c81c",
   "metadata": {},
   "outputs": [],
   "source": []
  },
  {
   "cell_type": "markdown",
   "id": "609ade50-ff38-4282-bf32-fc7bc393ac78",
   "metadata": {},
   "source": [
    "## Tuple Operations"
   ]
  },
  {
   "cell_type": "markdown",
   "id": "8c889525-c9b3-47ca-914e-55a9ac471689",
   "metadata": {},
   "source": [
    "### Addition "
   ]
  },
  {
   "cell_type": "code",
   "execution_count": 9,
   "id": "d0fb35d8-73a7-47a6-84f6-a044b682e919",
   "metadata": {},
   "outputs": [],
   "source": [
    "mytup1=(\"a\",\"b\",\"c\")"
   ]
  },
  {
   "cell_type": "code",
   "execution_count": 11,
   "id": "98bc0af9-7c71-4d37-8685-dffb05bf3e86",
   "metadata": {},
   "outputs": [
    {
     "data": {
      "text/plain": [
       "('a', 'b', 'c')"
      ]
     },
     "execution_count": 11,
     "metadata": {},
     "output_type": "execute_result"
    }
   ],
   "source": [
    "mytup1"
   ]
  },
  {
   "cell_type": "code",
   "execution_count": 13,
   "id": "77170ccc-7736-435b-8f1d-fdae9bab6630",
   "metadata": {},
   "outputs": [
    {
     "ename": "TypeError",
     "evalue": "can only concatenate tuple (not \"str\") to tuple",
     "output_type": "error",
     "traceback": [
      "\u001b[1;31m---------------------------------------------------------------------------\u001b[0m",
      "\u001b[1;31mTypeError\u001b[0m                                 Traceback (most recent call last)",
      "Cell \u001b[1;32mIn[13], line 1\u001b[0m\n\u001b[1;32m----> 1\u001b[0m mytup1\u001b[38;5;241m+\u001b[39m\u001b[38;5;124m\"\u001b[39m\u001b[38;5;124md\u001b[39m\u001b[38;5;124m\"\u001b[39m\n",
      "\u001b[1;31mTypeError\u001b[0m: can only concatenate tuple (not \"str\") to tuple"
     ]
    }
   ],
   "source": [
    "mytup1+\"d\""
   ]
  },
  {
   "cell_type": "code",
   "execution_count": 15,
   "id": "95633b94-2e8a-4213-b97f-d6697d74663b",
   "metadata": {},
   "outputs": [
    {
     "ename": "TypeError",
     "evalue": "can only concatenate tuple (not \"str\") to tuple",
     "output_type": "error",
     "traceback": [
      "\u001b[1;31m---------------------------------------------------------------------------\u001b[0m",
      "\u001b[1;31mTypeError\u001b[0m                                 Traceback (most recent call last)",
      "Cell \u001b[1;32mIn[15], line 1\u001b[0m\n\u001b[1;32m----> 1\u001b[0m mytup1\u001b[38;5;241m+\u001b[39m(\u001b[38;5;124m\"\u001b[39m\u001b[38;5;124md\u001b[39m\u001b[38;5;124m\"\u001b[39m)\n",
      "\u001b[1;31mTypeError\u001b[0m: can only concatenate tuple (not \"str\") to tuple"
     ]
    }
   ],
   "source": [
    "mytup1+(\"d\")"
   ]
  },
  {
   "cell_type": "code",
   "execution_count": 17,
   "id": "032440b0-f353-4054-8580-6db95336a213",
   "metadata": {},
   "outputs": [
    {
     "ename": "TypeError",
     "evalue": "can only concatenate tuple (not \"str\") to tuple",
     "output_type": "error",
     "traceback": [
      "\u001b[1;31m---------------------------------------------------------------------------\u001b[0m",
      "\u001b[1;31mTypeError\u001b[0m                                 Traceback (most recent call last)",
      "Cell \u001b[1;32mIn[17], line 1\u001b[0m\n\u001b[1;32m----> 1\u001b[0m mytup1\u001b[38;5;241m+\u001b[39m\u001b[38;5;124m\"\u001b[39m\u001b[38;5;124m(d)\u001b[39m\u001b[38;5;124m\"\u001b[39m\n",
      "\u001b[1;31mTypeError\u001b[0m: can only concatenate tuple (not \"str\") to tuple"
     ]
    }
   ],
   "source": [
    "mytup1+\"(d)\""
   ]
  },
  {
   "cell_type": "code",
   "execution_count": 19,
   "id": "f65e6ecb-f9ef-4eb5-b3e8-93c3081c5025",
   "metadata": {},
   "outputs": [
    {
     "data": {
      "text/plain": [
       "('a', 'b', 'c', 'd', 'e')"
      ]
     },
     "execution_count": 19,
     "metadata": {},
     "output_type": "execute_result"
    }
   ],
   "source": [
    "mytup1+(\"d\",\"e\") #Addition in a tuple does concatenation."
   ]
  },
  {
   "cell_type": "code",
   "execution_count": null,
   "id": "70e472d5-bf0e-4381-892e-08aaa39019d4",
   "metadata": {},
   "outputs": [],
   "source": []
  },
  {
   "cell_type": "code",
   "execution_count": null,
   "id": "6fa88c58-926f-4ce2-8214-3880f708b51d",
   "metadata": {},
   "outputs": [],
   "source": []
  },
  {
   "cell_type": "markdown",
   "id": "e7f744dc-a909-4943-b8c1-1005e43ddeb5",
   "metadata": {},
   "source": [
    "### Repetition"
   ]
  },
  {
   "cell_type": "code",
   "execution_count": 24,
   "id": "7f3ebf5b-673f-4293-a1b7-0257e9fca5d8",
   "metadata": {},
   "outputs": [],
   "source": [
    "mytup2=(\"a\",\"b\",\"c\")"
   ]
  },
  {
   "cell_type": "code",
   "execution_count": 26,
   "id": "d3b3818d-cd61-4eb2-a655-f614c3b898c9",
   "metadata": {},
   "outputs": [
    {
     "data": {
      "text/plain": [
       "('a', 'b', 'c')"
      ]
     },
     "execution_count": 26,
     "metadata": {},
     "output_type": "execute_result"
    }
   ],
   "source": [
    "mytup2"
   ]
  },
  {
   "cell_type": "code",
   "execution_count": 28,
   "id": "5da0dcf0-58b2-4fd8-9f48-f1813f5be3ff",
   "metadata": {},
   "outputs": [
    {
     "data": {
      "text/plain": [
       "('a', 'b', 'c', 'a', 'b', 'c', 'a', 'b', 'c')"
      ]
     },
     "execution_count": 28,
     "metadata": {},
     "output_type": "execute_result"
    }
   ],
   "source": [
    "mytup2*3"
   ]
  },
  {
   "cell_type": "code",
   "execution_count": 30,
   "id": "eee723b9-f0c9-437c-8348-1d8814f73600",
   "metadata": {},
   "outputs": [
    {
     "data": {
      "text/plain": [
       "('a', 'b', 'c')"
      ]
     },
     "execution_count": 30,
     "metadata": {},
     "output_type": "execute_result"
    }
   ],
   "source": [
    "mytup2"
   ]
  },
  {
   "cell_type": "code",
   "execution_count": 34,
   "id": "13f78dbc-30b3-40e5-99b6-066db8cd3057",
   "metadata": {},
   "outputs": [],
   "source": [
    "mytup3=mytup2*3"
   ]
  },
  {
   "cell_type": "code",
   "execution_count": 36,
   "id": "56e133a0-dd7d-4c56-b4bd-1e0e41f4dcdd",
   "metadata": {},
   "outputs": [
    {
     "data": {
      "text/plain": [
       "('a', 'b', 'c', 'a', 'b', 'c', 'a', 'b', 'c')"
      ]
     },
     "execution_count": 36,
     "metadata": {},
     "output_type": "execute_result"
    }
   ],
   "source": [
    "mytup3"
   ]
  },
  {
   "cell_type": "code",
   "execution_count": null,
   "id": "cac97f27-7108-444b-be74-dbc84ac3a9aa",
   "metadata": {},
   "outputs": [],
   "source": []
  },
  {
   "cell_type": "code",
   "execution_count": null,
   "id": "1f049857-5ef3-476a-a246-c0872e98d773",
   "metadata": {},
   "outputs": [],
   "source": []
  },
  {
   "cell_type": "markdown",
   "id": "aff12a96-91f5-4bc9-8f2d-2ef64a69e784",
   "metadata": {},
   "source": [
    "### Indexing a Tuple"
   ]
  },
  {
   "cell_type": "code",
   "execution_count": 41,
   "id": "d0f94a33-0317-4896-b9a2-2eeb6b776fe3",
   "metadata": {},
   "outputs": [
    {
     "data": {
      "text/plain": [
       "('a', 'b', 'c', 'a', 'b', 'c', 'a', 'b', 'c')"
      ]
     },
     "execution_count": 41,
     "metadata": {},
     "output_type": "execute_result"
    }
   ],
   "source": [
    "mytup3"
   ]
  },
  {
   "cell_type": "code",
   "execution_count": 39,
   "id": "87f3ace2-8111-44d3-97bc-6d9fabf5f960",
   "metadata": {},
   "outputs": [
    {
     "data": {
      "text/plain": [
       "'a'"
      ]
     },
     "execution_count": 39,
     "metadata": {},
     "output_type": "execute_result"
    }
   ],
   "source": [
    "mytup3[0]"
   ]
  },
  {
   "cell_type": "code",
   "execution_count": 43,
   "id": "118d23a3-24d2-448a-9b24-9a3265225546",
   "metadata": {},
   "outputs": [
    {
     "data": {
      "text/plain": [
       "'c'"
      ]
     },
     "execution_count": 43,
     "metadata": {},
     "output_type": "execute_result"
    }
   ],
   "source": [
    "mytup3[-1]"
   ]
  },
  {
   "cell_type": "code",
   "execution_count": 45,
   "id": "7db1038b-dcf5-4a40-8d1a-5401f5e5ac19",
   "metadata": {},
   "outputs": [
    {
     "data": {
      "text/plain": [
       "'c'"
      ]
     },
     "execution_count": 45,
     "metadata": {},
     "output_type": "execute_result"
    }
   ],
   "source": [
    "mytup3[2]"
   ]
  },
  {
   "cell_type": "code",
   "execution_count": 47,
   "id": "82579560-6d6e-4f42-b787-39422b4a463a",
   "metadata": {},
   "outputs": [
    {
     "data": {
      "text/plain": [
       "'b'"
      ]
     },
     "execution_count": 47,
     "metadata": {},
     "output_type": "execute_result"
    }
   ],
   "source": [
    "mytup3[-5]"
   ]
  },
  {
   "cell_type": "code",
   "execution_count": 49,
   "id": "f7a25821-0187-40c5-ab2e-0d8987a3cdf9",
   "metadata": {},
   "outputs": [
    {
     "data": {
      "text/plain": [
       "'a'"
      ]
     },
     "execution_count": 49,
     "metadata": {},
     "output_type": "execute_result"
    }
   ],
   "source": [
    "mytup3[-6]"
   ]
  },
  {
   "cell_type": "code",
   "execution_count": null,
   "id": "083e3512-1c8f-4cbf-a215-a88b1b8f2f9c",
   "metadata": {},
   "outputs": [],
   "source": []
  },
  {
   "cell_type": "code",
   "execution_count": null,
   "id": "8e47d978-c0d6-4ee1-adc7-41a85ef4e8e8",
   "metadata": {},
   "outputs": [],
   "source": []
  },
  {
   "cell_type": "markdown",
   "id": "0c33518f-bc6b-468b-b24b-4fd512147751",
   "metadata": {},
   "source": [
    "### Slicing"
   ]
  },
  {
   "cell_type": "code",
   "execution_count": 52,
   "id": "482355c3-bfe9-44ff-89b6-a715a37d79a5",
   "metadata": {},
   "outputs": [
    {
     "data": {
      "text/plain": [
       "('a', 'b', 'c', 'a', 'b', 'c', 'a', 'b', 'c')"
      ]
     },
     "execution_count": 52,
     "metadata": {},
     "output_type": "execute_result"
    }
   ],
   "source": [
    "mytup3"
   ]
  },
  {
   "cell_type": "code",
   "execution_count": 54,
   "id": "f5c62e3e-12eb-4ee0-a7c3-8683e33af997",
   "metadata": {},
   "outputs": [
    {
     "data": {
      "text/plain": [
       "('c', 'a', 'b', 'c')"
      ]
     },
     "execution_count": 54,
     "metadata": {},
     "output_type": "execute_result"
    }
   ],
   "source": [
    "mytup3[2:6]"
   ]
  },
  {
   "cell_type": "code",
   "execution_count": 56,
   "id": "85622da9-d4e7-4fd9-893b-e2041ba049e3",
   "metadata": {},
   "outputs": [
    {
     "data": {
      "text/plain": [
       "()"
      ]
     },
     "execution_count": 56,
     "metadata": {},
     "output_type": "execute_result"
    }
   ],
   "source": [
    "mytup3[-2:4]"
   ]
  },
  {
   "cell_type": "code",
   "execution_count": 58,
   "id": "14cf73c2-303b-4116-b80d-ef7272a48770",
   "metadata": {},
   "outputs": [
    {
     "data": {
      "text/plain": [
       "('c', 'a', 'b')"
      ]
     },
     "execution_count": 58,
     "metadata": {},
     "output_type": "execute_result"
    }
   ],
   "source": [
    "mytup3[2:5]"
   ]
  },
  {
   "cell_type": "code",
   "execution_count": 60,
   "id": "4b645790-af66-455a-a478-8da29223f410",
   "metadata": {},
   "outputs": [
    {
     "data": {
      "text/plain": [
       "('c', 'a', 'b')"
      ]
     },
     "execution_count": 60,
     "metadata": {},
     "output_type": "execute_result"
    }
   ],
   "source": [
    "mytup3[5:8]"
   ]
  },
  {
   "cell_type": "code",
   "execution_count": 62,
   "id": "00112bce-6142-49b6-ab54-d968429ebbc9",
   "metadata": {},
   "outputs": [
    {
     "data": {
      "text/plain": [
       "('c', 'a', 'b')"
      ]
     },
     "execution_count": 62,
     "metadata": {},
     "output_type": "execute_result"
    }
   ],
   "source": [
    "mytup3[-4:-1]"
   ]
  },
  {
   "cell_type": "code",
   "execution_count": 70,
   "id": "2af5881e-7e6c-4a34-9de9-73f50c6b246e",
   "metadata": {},
   "outputs": [
    {
     "data": {
      "text/plain": [
       "('c', 'a', 'b')"
      ]
     },
     "execution_count": 70,
     "metadata": {},
     "output_type": "execute_result"
    }
   ],
   "source": [
    "mytup3[-4:8]"
   ]
  },
  {
   "cell_type": "code",
   "execution_count": 72,
   "id": "1984806b-e139-4dfd-b14a-b17583f75fbd",
   "metadata": {},
   "outputs": [
    {
     "data": {
      "text/plain": [
       "('c', 'a', 'b')"
      ]
     },
     "execution_count": 72,
     "metadata": {},
     "output_type": "execute_result"
    }
   ],
   "source": [
    "mytup3[-7:5]"
   ]
  },
  {
   "cell_type": "code",
   "execution_count": null,
   "id": "b04b4e3b-a288-4925-a86b-fb4cff76c4e0",
   "metadata": {},
   "outputs": [],
   "source": []
  },
  {
   "cell_type": "code",
   "execution_count": null,
   "id": "d50507bb-aefb-4a01-8cfa-8e28505a6e95",
   "metadata": {},
   "outputs": [],
   "source": []
  },
  {
   "cell_type": "code",
   "execution_count": null,
   "id": "b68def49-f549-40ec-823a-e23873d28474",
   "metadata": {},
   "outputs": [],
   "source": []
  },
  {
   "cell_type": "markdown",
   "id": "61252c82-d339-4a2b-accf-9e79944343b3",
   "metadata": {},
   "source": [
    "# LISTS"
   ]
  },
  {
   "cell_type": "code",
   "execution_count": 75,
   "id": "27341567-bbf2-4fe3-bdb4-67165a3095ba",
   "metadata": {},
   "outputs": [],
   "source": [
    "# A list is a sequence of mutable Python objects like floating number, string, literals, etc.\n",
    "# Lists use square brackets.\n",
    "mylist1=[\"hello world\",6790,\"Sonek\",23.87]"
   ]
  },
  {
   "cell_type": "code",
   "execution_count": 77,
   "id": "d7dd256f-d63e-4e82-8c27-b307b488b1bf",
   "metadata": {},
   "outputs": [
    {
     "data": {
      "text/plain": [
       "['hello world', 6790, 'Sonek', 23.87]"
      ]
     },
     "execution_count": 77,
     "metadata": {},
     "output_type": "execute_result"
    }
   ],
   "source": [
    "mylist1"
   ]
  },
  {
   "cell_type": "code",
   "execution_count": 83,
   "id": "8be7f391-3e1a-4296-a6c3-69050a914c4a",
   "metadata": {},
   "outputs": [],
   "source": [
    "mylist2=[\"Wednesday\",234,mylist1] #This is a list containing a string,number and list."
   ]
  },
  {
   "cell_type": "code",
   "execution_count": 81,
   "id": "68655302-c565-4579-a9f9-6fd2722612f3",
   "metadata": {},
   "outputs": [
    {
     "data": {
      "text/plain": [
       "['Wednesday', 234, ['hello world', 6790, 'Sonek', 23.87]]"
      ]
     },
     "execution_count": 81,
     "metadata": {},
     "output_type": "execute_result"
    }
   ],
   "source": [
    "mylist2"
   ]
  },
  {
   "cell_type": "code",
   "execution_count": null,
   "id": "0d80aeb0-5a9d-4e85-b5e2-97c1876589e4",
   "metadata": {},
   "outputs": [],
   "source": []
  },
  {
   "cell_type": "code",
   "execution_count": null,
   "id": "de362df8-2f72-48dc-b0dc-eb522ec0fcdc",
   "metadata": {},
   "outputs": [],
   "source": []
  },
  {
   "cell_type": "markdown",
   "id": "92d39da6-ec8d-4809-92a3-83ad788a8061",
   "metadata": {},
   "source": [
    "## List Specific Operations"
   ]
  },
  {
   "cell_type": "code",
   "execution_count": 86,
   "id": "8a8b7d33-eb0d-443a-a7ec-38a76c5aef1c",
   "metadata": {},
   "outputs": [],
   "source": [
    "mylist3=[1,\"a\",2.5]"
   ]
  },
  {
   "cell_type": "code",
   "execution_count": 88,
   "id": "d4a291b0-9b30-4d32-a3e4-0bd4e128a7b3",
   "metadata": {},
   "outputs": [
    {
     "data": {
      "text/plain": [
       "[1, 'a', 2.5]"
      ]
     },
     "execution_count": 88,
     "metadata": {},
     "output_type": "execute_result"
    }
   ],
   "source": [
    "mylist3"
   ]
  },
  {
   "cell_type": "markdown",
   "id": "97992008-261f-422b-be32-e8aa984230c9",
   "metadata": {},
   "source": [
    "### list.append()"
   ]
  },
  {
   "cell_type": "code",
   "execution_count": 91,
   "id": "a955604e-1504-406f-bacf-9c51063ac997",
   "metadata": {},
   "outputs": [],
   "source": [
    "mylist3.append(\"b\")"
   ]
  },
  {
   "cell_type": "code",
   "execution_count": 93,
   "id": "80913d31-1ea6-4775-89e3-39e0d1e97bcd",
   "metadata": {},
   "outputs": [
    {
     "data": {
      "text/plain": [
       "[1, 'a', 2.5, 'b']"
      ]
     },
     "execution_count": 93,
     "metadata": {},
     "output_type": "execute_result"
    }
   ],
   "source": [
    "mylist3"
   ]
  },
  {
   "cell_type": "code",
   "execution_count": 98,
   "id": "7b7478c9-b9a5-462b-8603-48143d9106f9",
   "metadata": {},
   "outputs": [
    {
     "ename": "TypeError",
     "evalue": "list.append() takes exactly one argument (2 given)",
     "output_type": "error",
     "traceback": [
      "\u001b[1;31m---------------------------------------------------------------------------\u001b[0m",
      "\u001b[1;31mTypeError\u001b[0m                                 Traceback (most recent call last)",
      "Cell \u001b[1;32mIn[98], line 1\u001b[0m\n\u001b[1;32m----> 1\u001b[0m mylist3\u001b[38;5;241m.\u001b[39mappend(\u001b[38;5;124m\"\u001b[39m\u001b[38;5;124mc\u001b[39m\u001b[38;5;124m\"\u001b[39m,\u001b[38;5;241m8\u001b[39m)\n",
      "\u001b[1;31mTypeError\u001b[0m: list.append() takes exactly one argument (2 given)"
     ]
    }
   ],
   "source": [
    "mylist3.append(\"c\",8) #List.append can only add 1 item at a time."
   ]
  },
  {
   "cell_type": "code",
   "execution_count": null,
   "id": "ef83a1f5-9b50-4f05-b630-f3a10d149074",
   "metadata": {},
   "outputs": [],
   "source": []
  },
  {
   "cell_type": "code",
   "execution_count": null,
   "id": "e493d108-f503-4704-9bcb-8afb1e716089",
   "metadata": {},
   "outputs": [],
   "source": []
  },
  {
   "cell_type": "markdown",
   "id": "f69cd8d4-3f21-4830-a05c-e7523d1eda14",
   "metadata": {},
   "source": [
    "### list.extend([])"
   ]
  },
  {
   "cell_type": "code",
   "execution_count": 100,
   "id": "3acc5616-811e-4b54-bf22-e35eee3c74df",
   "metadata": {},
   "outputs": [
    {
     "data": {
      "text/plain": [
       "[1, 'a', 2.5, 'b']"
      ]
     },
     "execution_count": 100,
     "metadata": {},
     "output_type": "execute_result"
    }
   ],
   "source": [
    "mylist3"
   ]
  },
  {
   "cell_type": "code",
   "execution_count": 102,
   "id": "ef188a98-147a-4436-a3bb-3df9a69df65c",
   "metadata": {},
   "outputs": [
    {
     "ename": "TypeError",
     "evalue": "list.extend() takes exactly one argument (2 given)",
     "output_type": "error",
     "traceback": [
      "\u001b[1;31m---------------------------------------------------------------------------\u001b[0m",
      "\u001b[1;31mTypeError\u001b[0m                                 Traceback (most recent call last)",
      "Cell \u001b[1;32mIn[102], line 1\u001b[0m\n\u001b[1;32m----> 1\u001b[0m mylist3\u001b[38;5;241m.\u001b[39mextend(\u001b[38;5;124m\"\u001b[39m\u001b[38;5;124mr\u001b[39m\u001b[38;5;124m\"\u001b[39m,\u001b[38;5;241m9\u001b[39m)\n",
      "\u001b[1;31mTypeError\u001b[0m: list.extend() takes exactly one argument (2 given)"
     ]
    }
   ],
   "source": [
    "mylist3.extend(\"r\",9)"
   ]
  },
  {
   "cell_type": "code",
   "execution_count": 104,
   "id": "ac2c897f-d9e5-4796-9fa4-74b854c4ef4a",
   "metadata": {},
   "outputs": [],
   "source": [
    "mylist3.extend([\"r\",9])"
   ]
  },
  {
   "cell_type": "code",
   "execution_count": 106,
   "id": "a63b19a4-40c5-472f-ad9b-28eecefcfa77",
   "metadata": {},
   "outputs": [
    {
     "data": {
      "text/plain": [
       "[1, 'a', 2.5, 'b', 'r', 9]"
      ]
     },
     "execution_count": 106,
     "metadata": {},
     "output_type": "execute_result"
    }
   ],
   "source": [
    "mylist3"
   ]
  },
  {
   "cell_type": "code",
   "execution_count": null,
   "id": "e47031ae-2db1-408d-b566-71a6b50effa0",
   "metadata": {},
   "outputs": [],
   "source": []
  },
  {
   "cell_type": "code",
   "execution_count": null,
   "id": "1423ea16-ffe1-4a8b-b484-c6b908ac7a48",
   "metadata": {},
   "outputs": [],
   "source": []
  },
  {
   "cell_type": "markdown",
   "id": "a67276b0-eafe-4f89-bb2c-981efa205b4b",
   "metadata": {},
   "source": [
    "### list.insert()"
   ]
  },
  {
   "cell_type": "code",
   "execution_count": 111,
   "id": "6ab9fdb2-3b85-4e0d-b6bd-8cd1fdf68bb7",
   "metadata": {},
   "outputs": [
    {
     "data": {
      "text/plain": [
       "[1, 'a', 2.5, 'b', 'r', 9]"
      ]
     },
     "execution_count": 111,
     "metadata": {},
     "output_type": "execute_result"
    }
   ],
   "source": [
    "mylist3"
   ]
  },
  {
   "cell_type": "code",
   "execution_count": 113,
   "id": "70d01628-3f73-4b1f-b877-b9891f0d2aee",
   "metadata": {},
   "outputs": [],
   "source": [
    "mylist3.insert(0,\"k\")"
   ]
  },
  {
   "cell_type": "code",
   "execution_count": 115,
   "id": "a06b74d2-da67-4643-8a5f-99ed6a40a291",
   "metadata": {},
   "outputs": [
    {
     "data": {
      "text/plain": [
       "['k', 1, 'a', 2.5, 'b', 'r', 9]"
      ]
     },
     "execution_count": 115,
     "metadata": {},
     "output_type": "execute_result"
    }
   ],
   "source": [
    "mylist3"
   ]
  },
  {
   "cell_type": "code",
   "execution_count": 117,
   "id": "8b7c8acd-07bc-40d1-81d8-8601427fa5bc",
   "metadata": {},
   "outputs": [],
   "source": [
    "mylist3.insert(2,\"z\")"
   ]
  },
  {
   "cell_type": "code",
   "execution_count": 119,
   "id": "cdceaac4-633b-4e12-9e95-86a528019380",
   "metadata": {},
   "outputs": [
    {
     "data": {
      "text/plain": [
       "['k', 1, 'z', 'a', 2.5, 'b', 'r', 9]"
      ]
     },
     "execution_count": 119,
     "metadata": {},
     "output_type": "execute_result"
    }
   ],
   "source": [
    "mylist3"
   ]
  },
  {
   "cell_type": "code",
   "execution_count": 123,
   "id": "27b7a024-5352-4a55-bd89-e6ee82354e34",
   "metadata": {},
   "outputs": [],
   "source": [
    "mylist3.insert(-3,8)"
   ]
  },
  {
   "cell_type": "code",
   "execution_count": 125,
   "id": "386a3634-df43-407c-9f67-d437d0b571cd",
   "metadata": {},
   "outputs": [
    {
     "data": {
      "text/plain": [
       "['k', 1, 'z', 'a', 2.5, 8, 'b', 'r', 9]"
      ]
     },
     "execution_count": 125,
     "metadata": {},
     "output_type": "execute_result"
    }
   ],
   "source": [
    "mylist3"
   ]
  },
  {
   "cell_type": "code",
   "execution_count": null,
   "id": "00d4cffd-4f9e-4e09-8377-84cd481173d6",
   "metadata": {},
   "outputs": [],
   "source": []
  },
  {
   "cell_type": "code",
   "execution_count": null,
   "id": "84e7d8e9-ed34-43c1-8518-e61d80a511a7",
   "metadata": {},
   "outputs": [],
   "source": []
  },
  {
   "cell_type": "markdown",
   "id": "4b0b6185-beaf-4306-a4ed-6adca28d0656",
   "metadata": {},
   "source": [
    "### list.pop()"
   ]
  },
  {
   "cell_type": "code",
   "execution_count": null,
   "id": "8764e1df-0d19-491f-b0c7-d8521a5841d4",
   "metadata": {},
   "outputs": [],
   "source": [
    "#list,pop() deletes the last item from your list."
   ]
  },
  {
   "cell_type": "code",
   "execution_count": 128,
   "id": "51009d5b-1a32-429a-aeb8-44b6f3a9b123",
   "metadata": {},
   "outputs": [
    {
     "data": {
      "text/plain": [
       "['k', 1, 'z', 'a', 2.5, 8, 'b', 'r', 9]"
      ]
     },
     "execution_count": 128,
     "metadata": {},
     "output_type": "execute_result"
    }
   ],
   "source": [
    "mylist3 "
   ]
  },
  {
   "cell_type": "code",
   "execution_count": 132,
   "id": "491886eb-2ebc-492f-bf4e-7b239ca49fa6",
   "metadata": {},
   "outputs": [
    {
     "data": {
      "text/plain": [
       "9"
      ]
     },
     "execution_count": 132,
     "metadata": {},
     "output_type": "execute_result"
    }
   ],
   "source": [
    "mylist3.pop()"
   ]
  },
  {
   "cell_type": "code",
   "execution_count": 134,
   "id": "01a4205a-0996-46b2-b8b1-aa3684361e94",
   "metadata": {},
   "outputs": [
    {
     "data": {
      "text/plain": [
       "['k', 1, 'z', 'a', 2.5, 8, 'b', 'r']"
      ]
     },
     "execution_count": 134,
     "metadata": {},
     "output_type": "execute_result"
    }
   ],
   "source": [
    "mylist3"
   ]
  },
  {
   "cell_type": "code",
   "execution_count": 137,
   "id": "d3c13910-9fb7-476f-87da-d9e27464668f",
   "metadata": {},
   "outputs": [
    {
     "data": {
      "text/plain": [
       "8"
      ]
     },
     "execution_count": 137,
     "metadata": {},
     "output_type": "execute_result"
    }
   ],
   "source": [
    "mylist3.pop(-3) #popping/deleting the item on index \"-3\""
   ]
  },
  {
   "cell_type": "code",
   "execution_count": 139,
   "id": "5ac0a0ec-d1f9-4b4e-b3e8-a71bd632522f",
   "metadata": {},
   "outputs": [
    {
     "data": {
      "text/plain": [
       "['k', 1, 'z', 'a', 2.5, 'b', 'r']"
      ]
     },
     "execution_count": 139,
     "metadata": {},
     "output_type": "execute_result"
    }
   ],
   "source": [
    "mylist3"
   ]
  },
  {
   "cell_type": "code",
   "execution_count": null,
   "id": "49c7473d-337e-4131-8e4a-40cc762d9a06",
   "metadata": {},
   "outputs": [],
   "source": []
  },
  {
   "cell_type": "code",
   "execution_count": null,
   "id": "aedfefb3-fceb-47b7-b034-0ebf17c5fe81",
   "metadata": {},
   "outputs": [],
   "source": []
  },
  {
   "cell_type": "code",
   "execution_count": null,
   "id": "fc82093f-f8ec-453a-8b28-0b42b75953ba",
   "metadata": {},
   "outputs": [],
   "source": []
  },
  {
   "cell_type": "markdown",
   "id": "c5bb6738-bd40-43fa-8f1b-319c83d45338",
   "metadata": {},
   "source": [
    "# SETS"
   ]
  },
  {
   "cell_type": "code",
   "execution_count": 144,
   "id": "d0f413f6-80ee-463f-a829-964279a9af8b",
   "metadata": {},
   "outputs": [],
   "source": [
    "myset={\"Karkar\",678.97,\"Learning Python at Sonek\"} # A Set is an unordered collection of items.\n",
    "# Every element is unique (no duplicates) and must be immutable (which cannot be changed).\n",
    "# Set items are enclosed with curly braces { }"
   ]
  },
  {
   "cell_type": "code",
   "execution_count": 146,
   "id": "e2923dbf-bc77-42db-9cbe-4c5c7858caf0",
   "metadata": {},
   "outputs": [
    {
     "data": {
      "text/plain": [
       "{678.97, 'Karkar', 'Learning Python at Sonek'}"
      ]
     },
     "execution_count": 146,
     "metadata": {},
     "output_type": "execute_result"
    }
   ],
   "source": [
    "myset"
   ]
  },
  {
   "cell_type": "code",
   "execution_count": null,
   "id": "edc37a56-7146-454e-94dc-caa4a9105e12",
   "metadata": {},
   "outputs": [],
   "source": []
  },
  {
   "cell_type": "code",
   "execution_count": null,
   "id": "14dd4e4d-82e2-46e9-b4d8-3b9abe07f3e5",
   "metadata": {},
   "outputs": [],
   "source": []
  },
  {
   "cell_type": "markdown",
   "id": "99e0b6e1-b7c7-4615-9338-043938b027e7",
   "metadata": {},
   "source": [
    "## Set Specific Operations "
   ]
  },
  {
   "cell_type": "code",
   "execution_count": 149,
   "id": "fa228ce6-71f8-4a4a-94bb-fc8f49b799e2",
   "metadata": {},
   "outputs": [],
   "source": [
    "# Union - A list of all the items in the sets e.g what is in set A and what is in set B without duplicates\n",
    "#Intersection -The common items between the sets e.g what is in set A and also set B\n"
   ]
  },
  {
   "cell_type": "code",
   "execution_count": 151,
   "id": "62af12b9-a7c5-428f-a9ff-ef4f95c3e714",
   "metadata": {},
   "outputs": [],
   "source": [
    "myset1={1,2,\"c\"}"
   ]
  },
  {
   "cell_type": "code",
   "execution_count": 155,
   "id": "0818bbc8-0dec-472a-8065-df2e45831071",
   "metadata": {},
   "outputs": [],
   "source": [
    "myset2={1,\"b\",\"c\"}"
   ]
  },
  {
   "cell_type": "markdown",
   "id": "283006db-9714-4fcc-a074-1188419c5ed7",
   "metadata": {},
   "source": [
    "### set union "
   ]
  },
  {
   "cell_type": "code",
   "execution_count": null,
   "id": "3ffa0154-a435-4e6f-b13e-79d7617e5969",
   "metadata": {},
   "outputs": [],
   "source": [
    "#set union \n",
    "myset1 | myset2"
   ]
  },
  {
   "cell_type": "markdown",
   "id": "7e763d68-15f7-4fe0-a392-232bddb02146",
   "metadata": {},
   "source": [
    "### Set Intersection"
   ]
  },
  {
   "cell_type": "code",
   "execution_count": 163,
   "id": "f219a01c-3f02-45e6-bb60-4df388172524",
   "metadata": {},
   "outputs": [
    {
     "data": {
      "text/plain": [
       "{1, 'c'}"
      ]
     },
     "execution_count": 163,
     "metadata": {},
     "output_type": "execute_result"
    }
   ],
   "source": [
    "myset1 & myset2"
   ]
  },
  {
   "cell_type": "markdown",
   "id": "0d460a2a-0d68-4aa9-a16f-828c1010c8c6",
   "metadata": {},
   "source": [
    "### Set difference"
   ]
  },
  {
   "cell_type": "code",
   "execution_count": 167,
   "id": "22f8f3a5-c5b0-4f8d-a0ce-54e449dcc7fc",
   "metadata": {},
   "outputs": [
    {
     "data": {
      "text/plain": [
       "{2}"
      ]
     },
     "execution_count": 167,
     "metadata": {},
     "output_type": "execute_result"
    }
   ],
   "source": [
    "myset1 - myset2"
   ]
  },
  {
   "cell_type": "code",
   "execution_count": 169,
   "id": "524132a7-e4c8-4efe-9822-9b7e8c42669e",
   "metadata": {},
   "outputs": [
    {
     "data": {
      "text/plain": [
       "{'b'}"
      ]
     },
     "execution_count": 169,
     "metadata": {},
     "output_type": "execute_result"
    }
   ],
   "source": [
    "myset2 - myset1"
   ]
  },
  {
   "cell_type": "code",
   "execution_count": 171,
   "id": "e476df5e-5409-4629-a0c9-e611ac3f76d8",
   "metadata": {},
   "outputs": [
    {
     "data": {
      "text/plain": [
       "{1, 2, 'c'}"
      ]
     },
     "execution_count": 171,
     "metadata": {},
     "output_type": "execute_result"
    }
   ],
   "source": [
    "myset1"
   ]
  },
  {
   "cell_type": "code",
   "execution_count": 173,
   "id": "9dd63251-a117-418c-8c55-cfe7f25504d0",
   "metadata": {},
   "outputs": [
    {
     "data": {
      "text/plain": [
       "{1, 'b', 'c'}"
      ]
     },
     "execution_count": 173,
     "metadata": {},
     "output_type": "execute_result"
    }
   ],
   "source": [
    "myset2"
   ]
  },
  {
   "cell_type": "code",
   "execution_count": null,
   "id": "e236573a-1937-4fe9-a8a4-67d49641c49b",
   "metadata": {},
   "outputs": [],
   "source": []
  },
  {
   "cell_type": "code",
   "execution_count": null,
   "id": "da1965ef-9f54-44ec-a482-2a475aab2a1a",
   "metadata": {},
   "outputs": [],
   "source": []
  },
  {
   "cell_type": "code",
   "execution_count": null,
   "id": "8a18ffe2-7463-41e7-84ce-a202f3ade5bc",
   "metadata": {},
   "outputs": [],
   "source": []
  },
  {
   "cell_type": "code",
   "execution_count": null,
   "id": "ead3114c-af55-40ac-8062-81c919f160d4",
   "metadata": {},
   "outputs": [],
   "source": []
  },
  {
   "cell_type": "code",
   "execution_count": null,
   "id": "6c771c09-0e71-4e84-983a-47d371f577b6",
   "metadata": {},
   "outputs": [],
   "source": []
  },
  {
   "cell_type": "code",
   "execution_count": null,
   "id": "054728a5-9caf-46b5-89e6-8e1dbee243c9",
   "metadata": {},
   "outputs": [],
   "source": []
  },
  {
   "cell_type": "code",
   "execution_count": null,
   "id": "7a87439a-5f9e-4df2-a8e3-b507a16f5529",
   "metadata": {},
   "outputs": [],
   "source": []
  },
  {
   "cell_type": "code",
   "execution_count": null,
   "id": "2ae9229d-478b-4fca-b55a-eb922b940227",
   "metadata": {},
   "outputs": [],
   "source": []
  },
  {
   "cell_type": "code",
   "execution_count": null,
   "id": "eeb0a88d-6188-4fdb-9771-a576edcb4c46",
   "metadata": {},
   "outputs": [],
   "source": []
  },
  {
   "cell_type": "code",
   "execution_count": null,
   "id": "7facf77a-1218-492e-aada-d6cd810f1e86",
   "metadata": {},
   "outputs": [],
   "source": []
  }
 ],
 "metadata": {
  "kernelspec": {
   "display_name": "Python 3 (ipykernel)",
   "language": "python",
   "name": "python3"
  },
  "language_info": {
   "codemirror_mode": {
    "name": "ipython",
    "version": 3
   },
   "file_extension": ".py",
   "mimetype": "text/x-python",
   "name": "python",
   "nbconvert_exporter": "python",
   "pygments_lexer": "ipython3",
   "version": "3.12.4"
  }
 },
 "nbformat": 4,
 "nbformat_minor": 5
}
