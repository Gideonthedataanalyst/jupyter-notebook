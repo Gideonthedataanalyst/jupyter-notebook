{
 "cells": [
  {
   "cell_type": "markdown",
   "id": "e8451386-f8c4-4f86-80ad-2e26a6a5ebe9",
   "metadata": {},
   "source": [
    "# Python Dictionaries"
   ]
  },
  {
   "cell_type": "code",
   "execution_count": null,
   "id": "e5072ceb-d85a-46fd-833b-755e587f8533",
   "metadata": {},
   "outputs": [],
   "source": [
    "# dictionaries have a key(s) and a value(s)."
   ]
  },
  {
   "cell_type": "code",
   "execution_count": 2,
   "id": "ae9f4b87-c4ce-4b62-868e-497456970981",
   "metadata": {},
   "outputs": [],
   "source": [
    "mydict1={\"name\":\"Carole\"}"
   ]
  },
  {
   "cell_type": "code",
   "execution_count": 4,
   "id": "147d5534-a3f6-4d38-9c68-d06f0bf0353c",
   "metadata": {},
   "outputs": [],
   "source": [
    "mydict2={\"Age\":23}"
   ]
  },
  {
   "cell_type": "code",
   "execution_count": 6,
   "id": "57996234-217b-4df1-89d3-0f701bd61232",
   "metadata": {},
   "outputs": [],
   "source": [
    "mydict3={\"names\":[\"Karkar\",\"Dennis\",\"Faith\",\"Joy\"]}"
   ]
  },
  {
   "cell_type": "code",
   "execution_count": 8,
   "id": "02d239dc-cb08-499e-9876-ea93cd7acf71",
   "metadata": {},
   "outputs": [],
   "source": [
    "mydict4={\"names\":[\"Karkar\",\"Dennis\",\"Faith\",\"Joy\"],\"Ages\":[21,34,45,56]}"
   ]
  },
  {
   "cell_type": "code",
   "execution_count": 19,
   "id": "7167fbac-02ba-4b10-b998-e90132c25ed6",
   "metadata": {},
   "outputs": [],
   "source": [
    "mydict5={\"Surname\":[\"Mugure\",\"Mwangi\",\"Muthungu\",\"Gile\",\"Ereggae\",\"Olang\",\"Gacheri\"],\"Proffession\":[\"Doctor\",\"Actor\",\"Hacker\",\"Engineer\",\"Teacher\",\"Pilot\",\"Dentist\"],\"Salary\":[10000,20000,30000,40000,50000,60000,70000],\"Reason for joining Sonek\":[\"Further education\",\"Skills update\",\"Career Advancement\",\"Explore new field\",\"Skills update\",\"Career Advancement\",\"Further education\"]}"
   ]
  },
  {
   "cell_type": "code",
   "execution_count": 21,
   "id": "e3c9a288-bd2f-4bf0-baca-7656f3aed4b3",
   "metadata": {},
   "outputs": [
    {
     "data": {
      "text/plain": [
       "{'Surname': ['Mugure',\n",
       "  'Mwangi',\n",
       "  'Muthungu',\n",
       "  'Gile',\n",
       "  'Ereggae',\n",
       "  'Olang',\n",
       "  'Gacheri'],\n",
       " 'Proffession': ['Doctor',\n",
       "  'Actor',\n",
       "  'Hacker',\n",
       "  'Engineer',\n",
       "  'Teacher',\n",
       "  'Pilot',\n",
       "  'Dentist'],\n",
       " 'Salary': [10000, 20000, 30000, 40000, 50000, 60000, 70000],\n",
       " 'Reason for joining Sonek': ['Further education',\n",
       "  'Skills update',\n",
       "  'Career Advancement',\n",
       "  'Explore new field',\n",
       "  'Skills update',\n",
       "  'Career Advancement',\n",
       "  'Further education']}"
      ]
     },
     "execution_count": 21,
     "metadata": {},
     "output_type": "execute_result"
    }
   ],
   "source": [
    "mydict5"
   ]
  },
  {
   "cell_type": "code",
   "execution_count": 23,
   "id": "39576d6b-09d9-4164-87e4-f79d9fefffc0",
   "metadata": {},
   "outputs": [],
   "source": [
    "mydict6={\"names\":[\"Emmanuel\",\"Dennis\",\"Carol\",\"Karkar\",\"Dennis\",\"Faith\",\"Joy\"],\"Profession\":[\"Analyst\",\"Lawyer\",\"Enineer\",\"Doctor\",\"Teacher\",\"Manager\",\"Writer\"],\"Salaries\":[50000,10000,20000,40000,50000,60000,9000],\"Reasons\":[\"Career growth\",\"Promtion\",\"Construction\",\"Development\",\"Teaching\",\"Business\",\"Writting\"]}"
   ]
  },
  {
   "cell_type": "code",
   "execution_count": 25,
   "id": "14940ac9-a7c9-4d08-98ee-4ad9720fdb88",
   "metadata": {},
   "outputs": [
    {
     "data": {
      "text/plain": [
       "{'names': ['Emmanuel', 'Dennis', 'Carol', 'Karkar', 'Dennis', 'Faith', 'Joy'],\n",
       " 'Profession': ['Analyst',\n",
       "  'Lawyer',\n",
       "  'Enineer',\n",
       "  'Doctor',\n",
       "  'Teacher',\n",
       "  'Manager',\n",
       "  'Writer'],\n",
       " 'Salaries': [50000, 10000, 20000, 40000, 50000, 60000, 9000],\n",
       " 'Reasons': ['Career growth',\n",
       "  'Promtion',\n",
       "  'Construction',\n",
       "  'Development',\n",
       "  'Teaching',\n",
       "  'Business',\n",
       "  'Writting']}"
      ]
     },
     "execution_count": 25,
     "metadata": {},
     "output_type": "execute_result"
    }
   ],
   "source": [
    "mydict6"
   ]
  },
  {
   "cell_type": "code",
   "execution_count": 27,
   "id": "35ccd1be-87b1-4b82-b117-fdd9294f6317",
   "metadata": {},
   "outputs": [],
   "source": [
    "mydict7={\"surname\":[\"Ann\",\"Tilda\",\"Grace\",\"joy\",\"Dennis\",\"Mary\",\"Solo\"],\n",
    "         \"Profession\":[\"Actor\",\"Doctor\",\"Engineer\",\"Teacher\",\"Analyst\",\"Hacker\",\"Businessman\"],\n",
    "         \"Salary\":[20,000,40,000,50,000,60,000,70,000,80,000,90,000],\n",
    "         \"Reason\":[\"career\",\"skillsupdate\",\"further studies\",\"marketable course\",\"referral\",\"Advancement\",\"Explore new field\"]}"
   ]
  },
  {
   "cell_type": "code",
   "execution_count": 29,
   "id": "c6a31c7a-c436-4e8d-aea5-bee301f6981e",
   "metadata": {},
   "outputs": [
    {
     "data": {
      "text/plain": [
       "{'surname': ['Ann', 'Tilda', 'Grace', 'joy', 'Dennis', 'Mary', 'Solo'],\n",
       " 'Profession': ['Actor',\n",
       "  'Doctor',\n",
       "  'Engineer',\n",
       "  'Teacher',\n",
       "  'Analyst',\n",
       "  'Hacker',\n",
       "  'Businessman'],\n",
       " 'Salary': [20, 0, 40, 0, 50, 0, 60, 0, 70, 0, 80, 0, 90, 0],\n",
       " 'Reason': ['career',\n",
       "  'skillsupdate',\n",
       "  'further studies',\n",
       "  'marketable course',\n",
       "  'referral',\n",
       "  'Advancement',\n",
       "  'Explore new field']}"
      ]
     },
     "execution_count": 29,
     "metadata": {},
     "output_type": "execute_result"
    }
   ],
   "source": [
    "mydict7"
   ]
  },
  {
   "cell_type": "code",
   "execution_count": 31,
   "id": "6c3ac08b-d959-4998-bd1a-310e83b84dff",
   "metadata": {},
   "outputs": [
    {
     "data": {
      "text/plain": [
       "dict_keys(['surname', 'Profession', 'Salary', 'Reason'])"
      ]
     },
     "execution_count": 31,
     "metadata": {},
     "output_type": "execute_result"
    }
   ],
   "source": [
    "# mydict7.keys() for accessing the keys of a dictionary \n",
    "mydict7.keys()"
   ]
  },
  {
   "cell_type": "code",
   "execution_count": 33,
   "id": "f31b2550-b6fe-48cf-ac5c-b4dfb302b44f",
   "metadata": {},
   "outputs": [
    {
     "data": {
      "text/plain": [
       "dict_values([['Ann', 'Tilda', 'Grace', 'joy', 'Dennis', 'Mary', 'Solo'], ['Actor', 'Doctor', 'Engineer', 'Teacher', 'Analyst', 'Hacker', 'Businessman'], [20, 0, 40, 0, 50, 0, 60, 0, 70, 0, 80, 0, 90, 0], ['career', 'skillsupdate', 'further studies', 'marketable course', 'referral', 'Advancement', 'Explore new field']])"
      ]
     },
     "execution_count": 33,
     "metadata": {},
     "output_type": "execute_result"
    }
   ],
   "source": [
    "# mydict7.values() for accessing the values of a dictionary \n",
    "mydict7.values()"
   ]
  },
  {
   "cell_type": "code",
   "execution_count": 35,
   "id": "fd05b5b1-c4cc-4c47-82f6-3ac9c4b49f03",
   "metadata": {},
   "outputs": [
    {
     "data": {
      "text/plain": [
       "dict_items([('surname', ['Ann', 'Tilda', 'Grace', 'joy', 'Dennis', 'Mary', 'Solo']), ('Profession', ['Actor', 'Doctor', 'Engineer', 'Teacher', 'Analyst', 'Hacker', 'Businessman']), ('Salary', [20, 0, 40, 0, 50, 0, 60, 0, 70, 0, 80, 0, 90, 0]), ('Reason', ['career', 'skillsupdate', 'further studies', 'marketable course', 'referral', 'Advancement', 'Explore new field'])])"
      ]
     },
     "execution_count": 35,
     "metadata": {},
     "output_type": "execute_result"
    }
   ],
   "source": [
    "# mydict7.items() for accessing the items(values plus keys) of a dictionary \n",
    "mydict7.items()"
   ]
  },
  {
   "cell_type": "code",
   "execution_count": 37,
   "id": "517f7c1f-684d-4fd7-977b-37af7f57fa0d",
   "metadata": {},
   "outputs": [
    {
     "data": {
      "text/plain": [
       "dict_keys(['surname', 'Profession', 'Salary', 'Reason'])"
      ]
     },
     "execution_count": 37,
     "metadata": {},
     "output_type": "execute_result"
    }
   ],
   "source": [
    "mydict7.keys()"
   ]
  },
  {
   "cell_type": "code",
   "execution_count": 39,
   "id": "e716620a-6896-40ca-bb79-d90927655f6d",
   "metadata": {},
   "outputs": [
    {
     "ename": "NameError",
     "evalue": "name 'surname' is not defined",
     "output_type": "error",
     "traceback": [
      "\u001b[1;31m---------------------------------------------------------------------------\u001b[0m",
      "\u001b[1;31mNameError\u001b[0m                                 Traceback (most recent call last)",
      "Cell \u001b[1;32mIn[39], line 1\u001b[0m\n\u001b[1;32m----> 1\u001b[0m mydict7\u001b[38;5;241m.\u001b[39mget(surname)\n",
      "\u001b[1;31mNameError\u001b[0m: name 'surname' is not defined"
     ]
    }
   ],
   "source": [
    "mydict7.get(surname)"
   ]
  },
  {
   "cell_type": "code",
   "execution_count": 41,
   "id": "5392982c-f96e-4e5d-aa58-dea6aff5079d",
   "metadata": {},
   "outputs": [
    {
     "data": {
      "text/plain": [
       "['Ann', 'Tilda', 'Grace', 'joy', 'Dennis', 'Mary', 'Solo']"
      ]
     },
     "execution_count": 41,
     "metadata": {},
     "output_type": "execute_result"
    }
   ],
   "source": [
    "mydict7.get(\"surname\") # will get the specific values of the mentioned key."
   ]
  },
  {
   "cell_type": "code",
   "execution_count": 46,
   "id": "31ab6f9e-5a13-41ad-a8b8-9129e2d32d54",
   "metadata": {},
   "outputs": [
    {
     "data": {
      "text/plain": [
       "['Actor', 'Doctor', 'Engineer', 'Teacher', 'Analyst', 'Hacker', 'Businessman']"
      ]
     },
     "execution_count": 46,
     "metadata": {},
     "output_type": "execute_result"
    }
   ],
   "source": [
    "mydict7.get(\"Profession\") "
   ]
  },
  {
   "cell_type": "code",
   "execution_count": 48,
   "id": "432a8f20-c254-498f-9073-54a2e4c6eaf4",
   "metadata": {},
   "outputs": [
    {
     "data": {
      "text/plain": [
       "[20, 0, 40, 0, 50, 0, 60, 0, 70, 0, 80, 0, 90, 0]"
      ]
     },
     "execution_count": 48,
     "metadata": {},
     "output_type": "execute_result"
    }
   ],
   "source": [
    "mydict7.get(\"Salary\") "
   ]
  },
  {
   "cell_type": "code",
   "execution_count": 50,
   "id": "dde0b4d8-db18-4f43-88cf-01cdb2267771",
   "metadata": {},
   "outputs": [
    {
     "data": {
      "text/plain": [
       "['career',\n",
       " 'skillsupdate',\n",
       " 'further studies',\n",
       " 'marketable course',\n",
       " 'referral',\n",
       " 'Advancement',\n",
       " 'Explore new field']"
      ]
     },
     "execution_count": 50,
     "metadata": {},
     "output_type": "execute_result"
    }
   ],
   "source": [
    "mydict7.get(\"Reason\") "
   ]
  },
  {
   "cell_type": "code",
   "execution_count": 54,
   "id": "3aac34d5-3da0-47a1-b753-c32e9fc10e01",
   "metadata": {},
   "outputs": [
    {
     "data": {
      "text/plain": [
       "4"
      ]
     },
     "execution_count": 54,
     "metadata": {},
     "output_type": "execute_result"
    }
   ],
   "source": [
    "# To know the number of items in  your dictionary\n",
    "len(mydict7)"
   ]
  },
  {
   "cell_type": "code",
   "execution_count": null,
   "id": "6c40a546-9ec6-4ee5-b190-17d2fe25e268",
   "metadata": {},
   "outputs": [],
   "source": [
    "# mydict7.update() for adding another pair of key(s) and value(s).\n",
    "mydict7.update({\"Ages\":[]})"
   ]
  },
  {
   "cell_type": "code",
   "execution_count": null,
   "id": "6e3c6259-3fad-407b-98cd-2f6c802a0d3e",
   "metadata": {},
   "outputs": [],
   "source": []
  },
  {
   "cell_type": "code",
   "execution_count": null,
   "id": "f283ccd7-3337-4660-b851-45c9cfc0b061",
   "metadata": {},
   "outputs": [],
   "source": []
  },
  {
   "cell_type": "code",
   "execution_count": null,
   "id": "0d0a3729-a27f-4315-b659-6ee47cb4ec49",
   "metadata": {},
   "outputs": [],
   "source": []
  },
  {
   "cell_type": "code",
   "execution_count": null,
   "id": "dde866ce-d83b-4bf7-846b-d7d7b6568fec",
   "metadata": {},
   "outputs": [],
   "source": []
  },
  {
   "cell_type": "code",
   "execution_count": null,
   "id": "6a8f14bc-6584-446f-a2a7-5a58fff695d2",
   "metadata": {},
   "outputs": [],
   "source": []
  },
  {
   "cell_type": "code",
   "execution_count": null,
   "id": "c3c51d54-37f6-4836-8574-9c04430d04fc",
   "metadata": {},
   "outputs": [],
   "source": []
  },
  {
   "cell_type": "code",
   "execution_count": null,
   "id": "de082809-dedb-43be-95c8-25c4e4147b04",
   "metadata": {},
   "outputs": [],
   "source": []
  },
  {
   "cell_type": "code",
   "execution_count": null,
   "id": "224d7ee8-abea-4967-95e5-a83782259eff",
   "metadata": {},
   "outputs": [],
   "source": []
  },
  {
   "cell_type": "code",
   "execution_count": null,
   "id": "2aa6dd4d-447e-4d72-a6c5-40524f19b66a",
   "metadata": {},
   "outputs": [],
   "source": []
  },
  {
   "cell_type": "code",
   "execution_count": null,
   "id": "d715ef47-75c2-436d-ab38-d9f980f28bb0",
   "metadata": {},
   "outputs": [],
   "source": []
  },
  {
   "cell_type": "code",
   "execution_count": null,
   "id": "1c88624b-de86-4b57-9035-5603ad34717e",
   "metadata": {},
   "outputs": [],
   "source": []
  },
  {
   "cell_type": "code",
   "execution_count": null,
   "id": "d144a7a3-40a2-4496-8634-7914eaec810e",
   "metadata": {},
   "outputs": [],
   "source": []
  },
  {
   "cell_type": "code",
   "execution_count": null,
   "id": "b46b7fe2-3bbb-46c4-9e40-7cd749792c87",
   "metadata": {},
   "outputs": [],
   "source": []
  }
 ],
 "metadata": {
  "kernelspec": {
   "display_name": "Python 3 (ipykernel)",
   "language": "python",
   "name": "python3"
  },
  "language_info": {
   "codemirror_mode": {
    "name": "ipython",
    "version": 3
   },
   "file_extension": ".py",
   "mimetype": "text/x-python",
   "name": "python",
   "nbconvert_exporter": "python",
   "pygments_lexer": "ipython3",
   "version": "3.12.4"
  }
 },
 "nbformat": 4,
 "nbformat_minor": 5
}
