{
 "cells": [
  {
   "cell_type": "markdown",
   "id": "b0593b68-6a7a-4112-be83-88b3b404dddf",
   "metadata": {},
   "source": [
    "# PYTHON VARIABLES AND DATA TYPES"
   ]
  },
  {
   "cell_type": "markdown",
   "id": "7fd02c71-a870-46b6-9b0f-d88536c616eb",
   "metadata": {},
   "source": [
    "## String data types"
   ]
  },
  {
   "cell_type": "code",
   "execution_count": 3,
   "id": "33fa4979-ed93-4165-a42e-0e007d4c5fd7",
   "metadata": {},
   "outputs": [],
   "source": [
    "name1=\"Miguna\""
   ]
  },
  {
   "cell_type": "code",
   "execution_count": 5,
   "id": "001e5500-b793-43f6-8824-fdcdd3174f82",
   "metadata": {},
   "outputs": [
    {
     "data": {
      "text/plain": [
       "'MigunaMiguna'"
      ]
     },
     "execution_count": 5,
     "metadata": {},
     "output_type": "execute_result"
    }
   ],
   "source": [
    "name1*2 #Repetition"
   ]
  },
  {
   "cell_type": "code",
   "execution_count": 7,
   "id": "9863296b-1bd6-4398-829b-bcbb2e25a28f",
   "metadata": {},
   "outputs": [
    {
     "data": {
      "text/plain": [
       "'JackSon'"
      ]
     },
     "execution_count": 7,
     "metadata": {},
     "output_type": "execute_result"
    }
   ],
   "source": [
    "\"Jack\"+\"Son\" #concatination"
   ]
  },
  {
   "cell_type": "code",
   "execution_count": 9,
   "id": "9a45316b-cb6c-4259-9f11-c9721da72178",
   "metadata": {},
   "outputs": [
    {
     "data": {
      "text/plain": [
       "'M'"
      ]
     },
     "execution_count": 9,
     "metadata": {},
     "output_type": "execute_result"
    }
   ],
   "source": [
    "name1[0]"
   ]
  },
  {
   "cell_type": "code",
   "execution_count": 11,
   "id": "f96f259e-f53b-4e0d-8df1-50f9fe9ae0b6",
   "metadata": {},
   "outputs": [
    {
     "data": {
      "text/plain": [
       "'i'"
      ]
     },
     "execution_count": 11,
     "metadata": {},
     "output_type": "execute_result"
    }
   ],
   "source": [
    "name1[1]"
   ]
  },
  {
   "cell_type": "code",
   "execution_count": 13,
   "id": "b44794db-b3ed-4113-97fd-8f2b5b8f063c",
   "metadata": {},
   "outputs": [
    {
     "data": {
      "text/plain": [
       "'g'"
      ]
     },
     "execution_count": 13,
     "metadata": {},
     "output_type": "execute_result"
    }
   ],
   "source": [
    "name1[2]"
   ]
  },
  {
   "cell_type": "code",
   "execution_count": 15,
   "id": "7bd9664a-6287-43ca-94e8-f5b276b84241",
   "metadata": {},
   "outputs": [
    {
     "data": {
      "text/plain": [
       "'u'"
      ]
     },
     "execution_count": 15,
     "metadata": {},
     "output_type": "execute_result"
    }
   ],
   "source": [
    "name1[3]"
   ]
  },
  {
   "cell_type": "code",
   "execution_count": 17,
   "id": "04eccd4b-b65d-41fc-8c95-9c00de5d0b18",
   "metadata": {},
   "outputs": [
    {
     "data": {
      "text/plain": [
       "'n'"
      ]
     },
     "execution_count": 17,
     "metadata": {},
     "output_type": "execute_result"
    }
   ],
   "source": [
    "name1[4]"
   ]
  },
  {
   "cell_type": "code",
   "execution_count": 19,
   "id": "bc6e0cc8-a073-4e69-b79e-8cdbf5bfdc5c",
   "metadata": {},
   "outputs": [
    {
     "data": {
      "text/plain": [
       "'a'"
      ]
     },
     "execution_count": 19,
     "metadata": {},
     "output_type": "execute_result"
    }
   ],
   "source": [
    "name1[5]"
   ]
  },
  {
   "cell_type": "code",
   "execution_count": 23,
   "id": "9fc47553-d3d3-4df5-b6b5-2d10e132737a",
   "metadata": {},
   "outputs": [
    {
     "data": {
      "text/plain": [
       "'a'"
      ]
     },
     "execution_count": 23,
     "metadata": {},
     "output_type": "execute_result"
    }
   ],
   "source": [
    "name1[-1]"
   ]
  },
  {
   "cell_type": "code",
   "execution_count": 25,
   "id": "8355a521-1af4-4cc9-8c87-9a9809b503fe",
   "metadata": {},
   "outputs": [
    {
     "data": {
      "text/plain": [
       "'n'"
      ]
     },
     "execution_count": 25,
     "metadata": {},
     "output_type": "execute_result"
    }
   ],
   "source": [
    "name1[-2]"
   ]
  },
  {
   "cell_type": "code",
   "execution_count": 27,
   "id": "7af4a8c7-c002-49b6-b538-45bb32421b5c",
   "metadata": {},
   "outputs": [
    {
     "data": {
      "text/plain": [
       "'u'"
      ]
     },
     "execution_count": 27,
     "metadata": {},
     "output_type": "execute_result"
    }
   ],
   "source": [
    "name1[-3]"
   ]
  },
  {
   "cell_type": "code",
   "execution_count": 29,
   "id": "a5bf9311-9d9a-4cee-b114-6350399effc1",
   "metadata": {},
   "outputs": [
    {
     "data": {
      "text/plain": [
       "'g'"
      ]
     },
     "execution_count": 29,
     "metadata": {},
     "output_type": "execute_result"
    }
   ],
   "source": [
    "name1[-4]"
   ]
  },
  {
   "cell_type": "code",
   "execution_count": 31,
   "id": "4551c27c-718f-43b0-91c1-d6a4d884e0fe",
   "metadata": {},
   "outputs": [
    {
     "data": {
      "text/plain": [
       "'i'"
      ]
     },
     "execution_count": 31,
     "metadata": {},
     "output_type": "execute_result"
    }
   ],
   "source": [
    "name1[-5]"
   ]
  },
  {
   "cell_type": "code",
   "execution_count": 33,
   "id": "234b1295-6bf4-4aef-bf44-201b2f01eef6",
   "metadata": {},
   "outputs": [
    {
     "data": {
      "text/plain": [
       "'M'"
      ]
     },
     "execution_count": 33,
     "metadata": {},
     "output_type": "execute_result"
    }
   ],
   "source": [
    "name1[-6]"
   ]
  },
  {
   "cell_type": "code",
   "execution_count": 37,
   "id": "80152516-d374-48c1-b493-7c044574b19c",
   "metadata": {},
   "outputs": [
    {
     "data": {
      "text/plain": [
       "'Miguna'"
      ]
     },
     "execution_count": 37,
     "metadata": {},
     "output_type": "execute_result"
    }
   ],
   "source": [
    "name1"
   ]
  },
  {
   "cell_type": "code",
   "execution_count": 39,
   "id": "86e2acd0-e628-45d8-baf3-d425cff728be",
   "metadata": {},
   "outputs": [
    {
     "data": {
      "text/plain": [
       "'Mig'"
      ]
     },
     "execution_count": 39,
     "metadata": {},
     "output_type": "execute_result"
    }
   ],
   "source": [
    "name1[0:3]"
   ]
  },
  {
   "cell_type": "code",
   "execution_count": 41,
   "id": "64a7518d-d90b-4346-8de0-a048ce4f02e7",
   "metadata": {},
   "outputs": [
    {
     "data": {
      "text/plain": [
       "'gun'"
      ]
     },
     "execution_count": 41,
     "metadata": {},
     "output_type": "execute_result"
    }
   ],
   "source": [
    "name1[2:5]"
   ]
  },
  {
   "cell_type": "code",
   "execution_count": 45,
   "id": "987b5944-08b8-4902-bc3d-aa36123c70d2",
   "metadata": {},
   "outputs": [
    {
     "data": {
      "text/plain": [
       "'gun'"
      ]
     },
     "execution_count": 45,
     "metadata": {},
     "output_type": "execute_result"
    }
   ],
   "source": [
    "name1[-4:-1]"
   ]
  },
  {
   "cell_type": "code",
   "execution_count": 49,
   "id": "3d34c4d5-63ae-4c2f-a9c9-7cf5ee5b7c77",
   "metadata": {},
   "outputs": [
    {
     "data": {
      "text/plain": [
       "'gun'"
      ]
     },
     "execution_count": 49,
     "metadata": {},
     "output_type": "execute_result"
    }
   ],
   "source": [
    "name1[-4:5]"
   ]
  },
  {
   "cell_type": "code",
   "execution_count": null,
   "id": "26daa1c7-708d-4000-b7d8-02a19ea312d0",
   "metadata": {},
   "outputs": [],
   "source": []
  },
  {
   "cell_type": "code",
   "execution_count": 51,
   "id": "748df29a-2313-44ce-bb67-0ece035f3ac9",
   "metadata": {},
   "outputs": [
    {
     "data": {
      "text/plain": [
       "2"
      ]
     },
     "execution_count": 51,
     "metadata": {},
     "output_type": "execute_result"
    }
   ],
   "source": [
    "name1.find(\"gun\") #find() function finds where the stated string values start from i.e the index"
   ]
  },
  {
   "cell_type": "code",
   "execution_count": 55,
   "id": "f74cb316-09d3-4e2f-8741-aa9464917497",
   "metadata": {},
   "outputs": [
    {
     "data": {
      "text/plain": [
       "2"
      ]
     },
     "execution_count": 55,
     "metadata": {},
     "output_type": "execute_result"
    }
   ],
   "source": [
    "name1.find(\"g\")"
   ]
  },
  {
   "cell_type": "code",
   "execution_count": 57,
   "id": "dd895535-ef66-4dc0-98d4-a1abfd2e72bf",
   "metadata": {},
   "outputs": [
    {
     "data": {
      "text/plain": [
       "4"
      ]
     },
     "execution_count": 57,
     "metadata": {},
     "output_type": "execute_result"
    }
   ],
   "source": [
    "name1.find(\"n\")"
   ]
  },
  {
   "cell_type": "code",
   "execution_count": 59,
   "id": "bc03ea10-a5dc-4f9b-a478-c4b37e440c1b",
   "metadata": {},
   "outputs": [
    {
     "data": {
      "text/plain": [
       "'Njuguna'"
      ]
     },
     "execution_count": 59,
     "metadata": {},
     "output_type": "execute_result"
    }
   ],
   "source": [
    "name1.replace(\"Mi\",\"Nju\") #replace() function replaces specified characters with the one you want"
   ]
  },
  {
   "cell_type": "code",
   "execution_count": 61,
   "id": "3db1e2d5-0559-4fce-9bdf-499f5140edc6",
   "metadata": {},
   "outputs": [
    {
     "data": {
      "text/plain": [
       "'Micah'"
      ]
     },
     "execution_count": 61,
     "metadata": {},
     "output_type": "execute_result"
    }
   ],
   "source": [
    "name1.replace(\"guna\",\"cah\")"
   ]
  },
  {
   "cell_type": "code",
   "execution_count": 69,
   "id": "c19f9910-2fa8-4a8d-b659-890f1a805e2e",
   "metadata": {},
   "outputs": [],
   "source": [
    "name2=name1.replace(\"guna\",\"llicent\")"
   ]
  },
  {
   "cell_type": "code",
   "execution_count": 65,
   "id": "06f16e1f-9d19-488b-8794-313a7fdf32e6",
   "metadata": {},
   "outputs": [
    {
     "data": {
      "text/plain": [
       "'Migos'"
      ]
     },
     "execution_count": 65,
     "metadata": {},
     "output_type": "execute_result"
    }
   ],
   "source": [
    "name1.replace(\"una\",\"os\")"
   ]
  },
  {
   "cell_type": "code",
   "execution_count": 67,
   "id": "b140ab40-a298-4e87-9d56-7c63f4c9b7a1",
   "metadata": {},
   "outputs": [
    {
     "data": {
      "text/plain": [
       "'Michael'"
      ]
     },
     "execution_count": 67,
     "metadata": {},
     "output_type": "execute_result"
    }
   ],
   "source": [
    "name1.replace(\"guna\", \"chael\")"
   ]
  },
  {
   "cell_type": "code",
   "execution_count": 71,
   "id": "9d88b799-ec38-4a04-aaf8-799deb98745b",
   "metadata": {},
   "outputs": [
    {
     "name": "stdout",
     "output_type": "stream",
     "text": [
      "Millicent\n"
     ]
    }
   ],
   "source": [
    "print(name2)"
   ]
  },
  {
   "cell_type": "code",
   "execution_count": 73,
   "id": "20df274c-4c98-427f-a72c-c33c1f56328a",
   "metadata": {},
   "outputs": [
    {
     "data": {
      "text/plain": [
       "2"
      ]
     },
     "execution_count": 73,
     "metadata": {},
     "output_type": "execute_result"
    }
   ],
   "source": [
    "name2.count(\"l\")"
   ]
  },
  {
   "cell_type": "code",
   "execution_count": 75,
   "id": "7c6354fc-aebc-4f69-98a4-13138fde2e8a",
   "metadata": {},
   "outputs": [
    {
     "data": {
      "text/plain": [
       "2"
      ]
     },
     "execution_count": 75,
     "metadata": {},
     "output_type": "execute_result"
    }
   ],
   "source": [
    "name2.count(\"i\")"
   ]
  },
  {
   "cell_type": "code",
   "execution_count": 77,
   "id": "12dcf9ea-0cbc-48f0-825a-294e0c73a9db",
   "metadata": {},
   "outputs": [
    {
     "data": {
      "text/plain": [
       "1"
      ]
     },
     "execution_count": 77,
     "metadata": {},
     "output_type": "execute_result"
    }
   ],
   "source": [
    "name2.count(\"M\")"
   ]
  },
  {
   "cell_type": "code",
   "execution_count": 79,
   "id": "33abeded-7315-4077-9710-336f07002683",
   "metadata": {},
   "outputs": [
    {
     "data": {
      "text/plain": [
       "'Millicent'"
      ]
     },
     "execution_count": 79,
     "metadata": {},
     "output_type": "execute_result"
    }
   ],
   "source": [
    "name2.strip()"
   ]
  },
  {
   "cell_type": "code",
   "execution_count": 81,
   "id": "ea580aab-c06b-4d41-a644-5611c8c0a687",
   "metadata": {},
   "outputs": [],
   "source": [
    "name3=\"Miguna \""
   ]
  },
  {
   "cell_type": "code",
   "execution_count": 83,
   "id": "0812f22a-62cb-49a1-97b8-3948e3cdc277",
   "metadata": {},
   "outputs": [
    {
     "data": {
      "text/plain": [
       "'Miguna Miguna '"
      ]
     },
     "execution_count": 83,
     "metadata": {},
     "output_type": "execute_result"
    }
   ],
   "source": [
    "name3*2"
   ]
  },
  {
   "cell_type": "code",
   "execution_count": 85,
   "id": "4daf9b22-6c51-4323-8f59-d73de4f5e5fd",
   "metadata": {},
   "outputs": [
    {
     "data": {
      "text/plain": [
       "'Miguna'"
      ]
     },
     "execution_count": 85,
     "metadata": {},
     "output_type": "execute_result"
    }
   ],
   "source": [
    "name3.strip() #strip() function removes any leading or trailing spaces"
   ]
  },
  {
   "cell_type": "code",
   "execution_count": null,
   "id": "e12b94ef-be13-496a-b97d-1bb4f0abe7c5",
   "metadata": {},
   "outputs": [],
   "source": []
  },
  {
   "cell_type": "code",
   "execution_count": null,
   "id": "96d4aa43-e4b9-4180-88f5-91fef2801813",
   "metadata": {},
   "outputs": [],
   "source": []
  },
  {
   "cell_type": "code",
   "execution_count": null,
   "id": "25dd1594-d99a-41c7-bf0a-3d565c08ee0c",
   "metadata": {},
   "outputs": [],
   "source": []
  },
  {
   "cell_type": "markdown",
   "id": "09748b13-b899-44cb-bc8f-c5231138f9b2",
   "metadata": {},
   "source": [
    "# TUPLES"
   ]
  },
  {
   "cell_type": "code",
   "execution_count": 88,
   "id": "fa4d5c77-892b-448c-bfc7-4afd02f83bd3",
   "metadata": {},
   "outputs": [],
   "source": [
    "name4=(\"Bildad\",\"Aziza\",\"Denis\",\"Magdalene\",\"Emmanuel\",\"Carol\",\"Collins\") #a tuple with string values"
   ]
  },
  {
   "cell_type": "code",
   "execution_count": 90,
   "id": "55eab518-676c-4881-8ac8-8b8496ca91ab",
   "metadata": {},
   "outputs": [
    {
     "data": {
      "text/plain": [
       "('Bildad', 'Aziza', 'Denis', 'Magdalene', 'Emmanuel', 'Carol', 'Collins')"
      ]
     },
     "execution_count": 90,
     "metadata": {},
     "output_type": "execute_result"
    }
   ],
   "source": [
    "name4"
   ]
  },
  {
   "cell_type": "code",
   "execution_count": 92,
   "id": "a8985259-d1a8-4243-a2ec-af6918ef9e24",
   "metadata": {},
   "outputs": [],
   "source": [
    "tup1=(7,8,9,10,11) #a tuple with integer values"
   ]
  },
  {
   "cell_type": "code",
   "execution_count": 94,
   "id": "163e4818-c9f1-4f0b-af99-6a301b327bf8",
   "metadata": {},
   "outputs": [
    {
     "data": {
      "text/plain": [
       "(7, 8, 9, 10, 11)"
      ]
     },
     "execution_count": 94,
     "metadata": {},
     "output_type": "execute_result"
    }
   ],
   "source": [
    "tup1 "
   ]
  },
  {
   "cell_type": "code",
   "execution_count": 96,
   "id": "9d2ad09a-eb28-4f55-b5fc-25e186e68fad",
   "metadata": {},
   "outputs": [],
   "source": [
    "tup2=(\"Arsenal\",name3,100, 100.5) #a tuple with string value, already defined variable, an integer and a float value"
   ]
  },
  {
   "cell_type": "code",
   "execution_count": 98,
   "id": "abc0802e-21c3-48f3-b6bd-116eb50602ca",
   "metadata": {},
   "outputs": [
    {
     "data": {
      "text/plain": [
       "('Arsenal', 'Miguna ', 100, 100.5)"
      ]
     },
     "execution_count": 98,
     "metadata": {},
     "output_type": "execute_result"
    }
   ],
   "source": [
    "tup2"
   ]
  },
  {
   "cell_type": "code",
   "execution_count": 100,
   "id": "a9fefeb4-3e95-4410-a5ab-0ccaf034299f",
   "metadata": {},
   "outputs": [],
   "source": [
    "tup3=(\"Zakayo\",200,tup2) #a tuple with string value, integer value and an already defined tuple variable"
   ]
  },
  {
   "cell_type": "code",
   "execution_count": 102,
   "id": "6a209d76-b5d0-4c7b-9bdc-b692262a7930",
   "metadata": {},
   "outputs": [
    {
     "data": {
      "text/plain": [
       "('Zakayo', 200, ('Arsenal', 'Miguna ', 100, 100.5))"
      ]
     },
     "execution_count": 102,
     "metadata": {},
     "output_type": "execute_result"
    }
   ],
   "source": [
    "tup3"
   ]
  },
  {
   "cell_type": "code",
   "execution_count": null,
   "id": "ecf4001b-27b8-40d9-bfd7-d3a3c9046cf0",
   "metadata": {},
   "outputs": [],
   "source": []
  },
  {
   "cell_type": "code",
   "execution_count": null,
   "id": "6c8b8978-0fa0-460e-9c5d-7a863966224a",
   "metadata": {},
   "outputs": [],
   "source": []
  }
 ],
 "metadata": {
  "kernelspec": {
   "display_name": "Python 3 (ipykernel)",
   "language": "python",
   "name": "python3"
  },
  "language_info": {
   "codemirror_mode": {
    "name": "ipython",
    "version": 3
   },
   "file_extension": ".py",
   "mimetype": "text/x-python",
   "name": "python",
   "nbconvert_exporter": "python",
   "pygments_lexer": "ipython3",
   "version": "3.12.4"
  }
 },
 "nbformat": 4,
 "nbformat_minor": 5
}
